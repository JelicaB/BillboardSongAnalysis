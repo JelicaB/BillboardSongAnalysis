{
 "cells": [
  {
   "cell_type": "markdown",
   "id": "334a23fe",
   "metadata": {},
   "source": [
    "# Modelling - Billboard Hot 100 & Spotify Track Data"
   ]
  },
  {
   "cell_type": "markdown",
   "id": "d9e0cd8a",
   "metadata": {},
   "source": [
    "## 1.0 Import Data"
   ]
  },
  {
   "cell_type": "code",
   "execution_count": null,
   "id": "e86c528a",
   "metadata": {},
   "outputs": [],
   "source": []
  },
  {
   "cell_type": "markdown",
   "id": "ab7ae08d",
   "metadata": {},
   "source": [
    "## 2.0 Refining the Model"
   ]
  },
  {
   "cell_type": "code",
   "execution_count": null,
   "id": "6dfc1584",
   "metadata": {},
   "outputs": [],
   "source": [
    "# using the 52 features\n",
    "\n",
    "# use Bayesian optimization on random forest to pick a better number of features? GridSearchCV was taking too long\n",
    "\n",
    "# test it out on some unseen data?"
   ]
  }
 ],
 "metadata": {
  "kernelspec": {
   "display_name": "Python 3",
   "language": "python",
   "name": "python3"
  },
  "language_info": {
   "codemirror_mode": {
    "name": "ipython",
    "version": 3
   },
   "file_extension": ".py",
   "mimetype": "text/x-python",
   "name": "python",
   "nbconvert_exporter": "python",
   "pygments_lexer": "ipython3",
   "version": "3.8.8"
  }
 },
 "nbformat": 4,
 "nbformat_minor": 5
}
