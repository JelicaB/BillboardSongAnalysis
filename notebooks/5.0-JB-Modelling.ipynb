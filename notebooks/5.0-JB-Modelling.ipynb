{
 "cells": [
  {
   "cell_type": "markdown",
   "id": "334a23fe",
   "metadata": {},
   "source": [
    "# Modelling - Billboard Hot 100 & Spotify Track Data"
   ]
  },
  {
   "cell_type": "markdown",
   "id": "d9e0cd8a",
   "metadata": {},
   "source": [
    "## 1.0 Import Data"
   ]
  },
  {
   "cell_type": "code",
   "execution_count": 1,
   "id": "e86c528a",
   "metadata": {},
   "outputs": [],
   "source": [
    "import pandas as pd\n",
    "import numpy as np\n",
    "import os\n",
    "import matplotlib.pyplot as plt\n",
    "import seaborn as sns\n",
    "from sklearn.model_selection import train_test_split, cross_validate\n",
    "from sklearn.preprocessing import StandardScaler\n",
    "from sklearn.metrics import r2_score, mean_squared_error, mean_absolute_error\n",
    "from sklearn.ensemble import RandomForestRegressor\n",
    "from sklearn.pipeline import make_pipeline"
   ]
  },
  {
   "cell_type": "code",
   "execution_count": 3,
   "id": "a8bcac9c",
   "metadata": {},
   "outputs": [
    {
     "data": {
      "text/html": [
       "<div>\n",
       "<style scoped>\n",
       "    .dataframe tbody tr th:only-of-type {\n",
       "        vertical-align: middle;\n",
       "    }\n",
       "\n",
       "    .dataframe tbody tr th {\n",
       "        vertical-align: top;\n",
       "    }\n",
       "\n",
       "    .dataframe thead th {\n",
       "        text-align: right;\n",
       "    }\n",
       "</style>\n",
       "<table border=\"1\" class=\"dataframe\">\n",
       "  <thead>\n",
       "    <tr style=\"text-align: right;\">\n",
       "      <th></th>\n",
       "      <th>BB_Title</th>\n",
       "      <th>BB_Artist</th>\n",
       "      <th>PeakPos</th>\n",
       "      <th>danceability</th>\n",
       "      <th>energy</th>\n",
       "      <th>key</th>\n",
       "      <th>loudness</th>\n",
       "      <th>mode</th>\n",
       "      <th>speechiness</th>\n",
       "      <th>acousticness</th>\n",
       "      <th>...</th>\n",
       "      <th>tm_42</th>\n",
       "      <th>tm_43</th>\n",
       "      <th>tm_44</th>\n",
       "      <th>tm_45</th>\n",
       "      <th>tm_46</th>\n",
       "      <th>tm_47</th>\n",
       "      <th>tm_48</th>\n",
       "      <th>tm_49</th>\n",
       "      <th>tm_50</th>\n",
       "      <th>tm_51</th>\n",
       "    </tr>\n",
       "  </thead>\n",
       "  <tbody>\n",
       "    <tr>\n",
       "      <th>0</th>\n",
       "      <td>Stay</td>\n",
       "      <td>The Kid LAROI &amp; Justin Bieber</td>\n",
       "      <td>1</td>\n",
       "      <td>0.591</td>\n",
       "      <td>0.764</td>\n",
       "      <td>1.0</td>\n",
       "      <td>-5.484</td>\n",
       "      <td>1.0</td>\n",
       "      <td>0.0483</td>\n",
       "      <td>0.0383</td>\n",
       "      <td>...</td>\n",
       "      <td>0.0</td>\n",
       "      <td>0.0</td>\n",
       "      <td>0.0</td>\n",
       "      <td>0.0</td>\n",
       "      <td>3.0</td>\n",
       "      <td>-1.0</td>\n",
       "      <td>0.0</td>\n",
       "      <td>0.0</td>\n",
       "      <td>0.0</td>\n",
       "      <td>0.0</td>\n",
       "    </tr>\n",
       "    <tr>\n",
       "      <th>1</th>\n",
       "      <td>Bad Habits</td>\n",
       "      <td>Ed Sheeran</td>\n",
       "      <td>2</td>\n",
       "      <td>0.808</td>\n",
       "      <td>0.897</td>\n",
       "      <td>11.0</td>\n",
       "      <td>-3.712</td>\n",
       "      <td>0.0</td>\n",
       "      <td>0.0348</td>\n",
       "      <td>0.0469</td>\n",
       "      <td>...</td>\n",
       "      <td>0.0</td>\n",
       "      <td>0.0</td>\n",
       "      <td>0.0</td>\n",
       "      <td>0.0</td>\n",
       "      <td>0.0</td>\n",
       "      <td>0.0</td>\n",
       "      <td>0.0</td>\n",
       "      <td>0.0</td>\n",
       "      <td>0.0</td>\n",
       "      <td>0.0</td>\n",
       "    </tr>\n",
       "    <tr>\n",
       "      <th>2</th>\n",
       "      <td>Good 4 U</td>\n",
       "      <td>Olivia Rodrigo</td>\n",
       "      <td>1</td>\n",
       "      <td>0.563</td>\n",
       "      <td>0.664</td>\n",
       "      <td>9.0</td>\n",
       "      <td>-5.044</td>\n",
       "      <td>1.0</td>\n",
       "      <td>0.1540</td>\n",
       "      <td>0.3350</td>\n",
       "      <td>...</td>\n",
       "      <td>0.0</td>\n",
       "      <td>0.0</td>\n",
       "      <td>0.0</td>\n",
       "      <td>0.0</td>\n",
       "      <td>0.0</td>\n",
       "      <td>0.0</td>\n",
       "      <td>0.0</td>\n",
       "      <td>0.0</td>\n",
       "      <td>0.0</td>\n",
       "      <td>0.0</td>\n",
       "    </tr>\n",
       "    <tr>\n",
       "      <th>3</th>\n",
       "      <td>Rumors</td>\n",
       "      <td>Lizzo Featuring Cardi B</td>\n",
       "      <td>4</td>\n",
       "      <td>0.827</td>\n",
       "      <td>0.731</td>\n",
       "      <td>4.0</td>\n",
       "      <td>-5.524</td>\n",
       "      <td>0.0</td>\n",
       "      <td>0.0880</td>\n",
       "      <td>0.1300</td>\n",
       "      <td>...</td>\n",
       "      <td>0.0</td>\n",
       "      <td>0.0</td>\n",
       "      <td>2.0</td>\n",
       "      <td>0.0</td>\n",
       "      <td>4.0</td>\n",
       "      <td>-2.0</td>\n",
       "      <td>0.0</td>\n",
       "      <td>0.0</td>\n",
       "      <td>0.0</td>\n",
       "      <td>0.0</td>\n",
       "    </tr>\n",
       "    <tr>\n",
       "      <th>4</th>\n",
       "      <td>Kiss Me More</td>\n",
       "      <td>Doja Cat Featuring SZA</td>\n",
       "      <td>3</td>\n",
       "      <td>0.762</td>\n",
       "      <td>0.701</td>\n",
       "      <td>8.0</td>\n",
       "      <td>-3.541</td>\n",
       "      <td>1.0</td>\n",
       "      <td>0.0286</td>\n",
       "      <td>0.2350</td>\n",
       "      <td>...</td>\n",
       "      <td>0.0</td>\n",
       "      <td>0.0</td>\n",
       "      <td>0.0</td>\n",
       "      <td>0.0</td>\n",
       "      <td>1.0</td>\n",
       "      <td>0.0</td>\n",
       "      <td>0.0</td>\n",
       "      <td>0.0</td>\n",
       "      <td>0.0</td>\n",
       "      <td>0.0</td>\n",
       "    </tr>\n",
       "  </tbody>\n",
       "</table>\n",
       "<p>5 rows × 68 columns</p>\n",
       "</div>"
      ],
      "text/plain": [
       "       BB_Title                      BB_Artist  PeakPos  danceability  energy  \\\n",
       "0          Stay  The Kid LAROI & Justin Bieber        1         0.591   0.764   \n",
       "1    Bad Habits                     Ed Sheeran        2         0.808   0.897   \n",
       "2      Good 4 U                 Olivia Rodrigo        1         0.563   0.664   \n",
       "3        Rumors        Lizzo Featuring Cardi B        4         0.827   0.731   \n",
       "4  Kiss Me More         Doja Cat Featuring SZA        3         0.762   0.701   \n",
       "\n",
       "    key  loudness  mode  speechiness  acousticness  ...  tm_42  tm_43  tm_44  \\\n",
       "0   1.0    -5.484   1.0       0.0483        0.0383  ...    0.0    0.0    0.0   \n",
       "1  11.0    -3.712   0.0       0.0348        0.0469  ...    0.0    0.0    0.0   \n",
       "2   9.0    -5.044   1.0       0.1540        0.3350  ...    0.0    0.0    0.0   \n",
       "3   4.0    -5.524   0.0       0.0880        0.1300  ...    0.0    0.0    2.0   \n",
       "4   8.0    -3.541   1.0       0.0286        0.2350  ...    0.0    0.0    0.0   \n",
       "\n",
       "   tm_45  tm_46  tm_47  tm_48  tm_49  tm_50  tm_51  \n",
       "0    0.0    3.0   -1.0    0.0    0.0    0.0    0.0  \n",
       "1    0.0    0.0    0.0    0.0    0.0    0.0    0.0  \n",
       "2    0.0    0.0    0.0    0.0    0.0    0.0    0.0  \n",
       "3    0.0    4.0   -2.0    0.0    0.0    0.0    0.0  \n",
       "4    0.0    1.0    0.0    0.0    0.0    0.0    0.0  \n",
       "\n",
       "[5 rows x 68 columns]"
      ]
     },
     "execution_count": 3,
     "metadata": {},
     "output_type": "execute_result"
    }
   ],
   "source": [
    "#import data\n",
    "data = pd.read_csv('../data/processed/prepro-merged', index_col=0)\n",
    "\n",
    "data.head()"
   ]
  },
  {
   "cell_type": "code",
   "execution_count": 4,
   "id": "0b46655e",
   "metadata": {},
   "outputs": [],
   "source": [
    "X = data.drop(columns=['PeakPos','BB_Title', 'BB_Artist'])\n",
    "y = data.PeakPos\n",
    "\n",
    "X_train, X_test, y_train, y_test = train_test_split(X, y, test_size=0.3, random_state=42)"
   ]
  },
  {
   "cell_type": "markdown",
   "id": "ab7ae08d",
   "metadata": {},
   "source": [
    "## 2.0 Refining the Model"
   ]
  },
  {
   "cell_type": "code",
   "execution_count": 6,
   "id": "ddef8f90",
   "metadata": {},
   "outputs": [],
   "source": [
    "RFpipe = make_pipeline(\n",
    "    StandardScaler(),\n",
    "    RandomForestRegressor(random_state=42)\n",
    ")"
   ]
  },
  {
   "cell_type": "code",
   "execution_count": 7,
   "id": "859e3d84",
   "metadata": {},
   "outputs": [],
   "source": [
    "RFpipe.fit(X_train, y_train)\n",
    "    \n",
    "y_tr_pred = RFpipe.predict(X_train)\n",
    "y_te_pred = RFpipe.predict(X_test)"
   ]
  },
  {
   "cell_type": "code",
   "execution_count": 8,
   "id": "e1293f11",
   "metadata": {},
   "outputs": [
    {
     "data": {
      "text/plain": [
       "(0.8705168732321016, 0.0773500832378754)"
      ]
     },
     "execution_count": 8,
     "metadata": {},
     "output_type": "execute_result"
    }
   ],
   "source": [
    "r2_score(y_train, y_tr_pred), r2_score(y_test, y_te_pred)"
   ]
  },
  {
   "cell_type": "code",
   "execution_count": 9,
   "id": "0378ebd3",
   "metadata": {},
   "outputs": [
    {
     "data": {
      "text/plain": [
       "(8.911822690638562, 24.198828633405636)"
      ]
     },
     "execution_count": 9,
     "metadata": {},
     "output_type": "execute_result"
    }
   ],
   "source": [
    "mean_absolute_error(y_train, y_tr_pred), mean_absolute_error(y_test, y_te_pred)"
   ]
  },
  {
   "cell_type": "code",
   "execution_count": 10,
   "id": "5af3df19",
   "metadata": {},
   "outputs": [
    {
     "data": {
      "text/plain": [
       "(113.7607755114693, 805.8527851048444)"
      ]
     },
     "execution_count": 10,
     "metadata": {},
     "output_type": "execute_result"
    }
   ],
   "source": [
    "mean_squared_error(y_train, y_tr_pred), mean_squared_error(y_test, y_te_pred)"
   ]
  },
  {
   "cell_type": "code",
   "execution_count": 11,
   "id": "b0675b44",
   "metadata": {},
   "outputs": [
    {
     "data": {
      "text/plain": [
       "array([0.06792352, 0.0417402 , 0.07250459, 0.05910489, 0.06425384])"
      ]
     },
     "execution_count": 11,
     "metadata": {},
     "output_type": "execute_result"
    }
   ],
   "source": [
    "cv_results = cross_validate(RFpipe, X_train, y_train, cv=5)\n",
    "cv_scores = cv_results['test_score']\n",
    "cv_scores"
   ]
  },
  {
   "cell_type": "code",
   "execution_count": null,
   "id": "75d9ef6d",
   "metadata": {},
   "outputs": [],
   "source": []
  }
 ],
 "metadata": {
  "kernelspec": {
   "display_name": "Python 3",
   "language": "python",
   "name": "python3"
  },
  "language_info": {
   "codemirror_mode": {
    "name": "ipython",
    "version": 3
   },
   "file_extension": ".py",
   "mimetype": "text/x-python",
   "name": "python",
   "nbconvert_exporter": "python",
   "pygments_lexer": "ipython3",
   "version": "3.8.8"
  }
 },
 "nbformat": 4,
 "nbformat_minor": 5
}
