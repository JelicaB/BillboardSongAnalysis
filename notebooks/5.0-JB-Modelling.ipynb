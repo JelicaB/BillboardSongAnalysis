{
 "cells": [
  {
   "cell_type": "markdown",
   "id": "334a23fe",
   "metadata": {},
   "source": [
    "# Modelling - Billboard Hot 100 & Spotify Track Data"
   ]
  },
  {
   "cell_type": "markdown",
   "id": "d9e0cd8a",
   "metadata": {},
   "source": [
    "## 1.0 Import Data"
   ]
  },
  {
   "cell_type": "code",
   "execution_count": 1,
   "id": "e86c528a",
   "metadata": {},
   "outputs": [],
   "source": [
    "import pandas as pd\n",
    "import numpy as np\n",
    "import os\n",
    "import matplotlib.pyplot as plt\n",
    "import seaborn as sns\n",
    "from sklearn.model_selection import train_test_split, cross_validate, GridSearchCV, KFold, cross_val_score,RandomizedSearchCV\n",
    "from sklearn.preprocessing import StandardScaler\n",
    "from sklearn.ensemble import RandomForestClassifier\n",
    "from sklearn.neighbors import KNeighborsClassifier\n",
    "from sklearn.metrics import classification_report, confusion_matrix, accuracy_score, roc_auc_score, roc_curve\n",
    "from sklearn.linear_model import Ridge, Lasso, LogisticRegression"
   ]
  },
  {
   "cell_type": "code",
   "execution_count": 2,
   "id": "a8bcac9c",
   "metadata": {},
   "outputs": [
    {
     "data": {
      "text/html": [
       "<div>\n",
       "<style scoped>\n",
       "    .dataframe tbody tr th:only-of-type {\n",
       "        vertical-align: middle;\n",
       "    }\n",
       "\n",
       "    .dataframe tbody tr th {\n",
       "        vertical-align: top;\n",
       "    }\n",
       "\n",
       "    .dataframe thead th {\n",
       "        text-align: right;\n",
       "    }\n",
       "</style>\n",
       "<table border=\"1\" class=\"dataframe\">\n",
       "  <thead>\n",
       "    <tr style=\"text-align: right;\">\n",
       "      <th></th>\n",
       "      <th>BB_Title</th>\n",
       "      <th>BB_Artist</th>\n",
       "      <th>PeakPos</th>\n",
       "      <th>danceability</th>\n",
       "      <th>energy</th>\n",
       "      <th>key</th>\n",
       "      <th>loudness</th>\n",
       "      <th>mode</th>\n",
       "      <th>speechiness</th>\n",
       "      <th>acousticness</th>\n",
       "      <th>...</th>\n",
       "      <th>tm_246</th>\n",
       "      <th>tm_247</th>\n",
       "      <th>tm_248</th>\n",
       "      <th>tm_249</th>\n",
       "      <th>tm_250</th>\n",
       "      <th>tm_251</th>\n",
       "      <th>tm_252</th>\n",
       "      <th>tm_253</th>\n",
       "      <th>tm_254</th>\n",
       "      <th>tm_255</th>\n",
       "    </tr>\n",
       "  </thead>\n",
       "  <tbody>\n",
       "    <tr>\n",
       "      <th>0</th>\n",
       "      <td>Stay</td>\n",
       "      <td>The Kid LAROI &amp; Justin Bieber</td>\n",
       "      <td>1</td>\n",
       "      <td>0.591</td>\n",
       "      <td>0.764</td>\n",
       "      <td>1.0</td>\n",
       "      <td>-5.484</td>\n",
       "      <td>1.0</td>\n",
       "      <td>0.0483</td>\n",
       "      <td>0.0383</td>\n",
       "      <td>...</td>\n",
       "      <td>0.0</td>\n",
       "      <td>0.0</td>\n",
       "      <td>0.0</td>\n",
       "      <td>0.0</td>\n",
       "      <td>0.0</td>\n",
       "      <td>0.0</td>\n",
       "      <td>0.0</td>\n",
       "      <td>0.0</td>\n",
       "      <td>0.0</td>\n",
       "      <td>0.0</td>\n",
       "    </tr>\n",
       "    <tr>\n",
       "      <th>1</th>\n",
       "      <td>Bad Habits</td>\n",
       "      <td>Ed Sheeran</td>\n",
       "      <td>2</td>\n",
       "      <td>0.808</td>\n",
       "      <td>0.897</td>\n",
       "      <td>11.0</td>\n",
       "      <td>-3.712</td>\n",
       "      <td>0.0</td>\n",
       "      <td>0.0348</td>\n",
       "      <td>0.0469</td>\n",
       "      <td>...</td>\n",
       "      <td>0.0</td>\n",
       "      <td>0.0</td>\n",
       "      <td>0.0</td>\n",
       "      <td>0.0</td>\n",
       "      <td>0.0</td>\n",
       "      <td>0.0</td>\n",
       "      <td>0.0</td>\n",
       "      <td>0.0</td>\n",
       "      <td>0.0</td>\n",
       "      <td>0.0</td>\n",
       "    </tr>\n",
       "    <tr>\n",
       "      <th>2</th>\n",
       "      <td>Good 4 U</td>\n",
       "      <td>Olivia Rodrigo</td>\n",
       "      <td>1</td>\n",
       "      <td>0.563</td>\n",
       "      <td>0.664</td>\n",
       "      <td>9.0</td>\n",
       "      <td>-5.044</td>\n",
       "      <td>1.0</td>\n",
       "      <td>0.1540</td>\n",
       "      <td>0.3350</td>\n",
       "      <td>...</td>\n",
       "      <td>0.0</td>\n",
       "      <td>0.0</td>\n",
       "      <td>0.0</td>\n",
       "      <td>0.0</td>\n",
       "      <td>0.0</td>\n",
       "      <td>0.0</td>\n",
       "      <td>0.0</td>\n",
       "      <td>0.0</td>\n",
       "      <td>0.0</td>\n",
       "      <td>0.0</td>\n",
       "    </tr>\n",
       "    <tr>\n",
       "      <th>3</th>\n",
       "      <td>Rumors</td>\n",
       "      <td>Lizzo Featuring Cardi B</td>\n",
       "      <td>4</td>\n",
       "      <td>0.827</td>\n",
       "      <td>0.731</td>\n",
       "      <td>4.0</td>\n",
       "      <td>-5.524</td>\n",
       "      <td>0.0</td>\n",
       "      <td>0.0880</td>\n",
       "      <td>0.1300</td>\n",
       "      <td>...</td>\n",
       "      <td>0.0</td>\n",
       "      <td>0.0</td>\n",
       "      <td>0.0</td>\n",
       "      <td>0.0</td>\n",
       "      <td>0.0</td>\n",
       "      <td>0.0</td>\n",
       "      <td>0.0</td>\n",
       "      <td>0.0</td>\n",
       "      <td>0.0</td>\n",
       "      <td>0.0</td>\n",
       "    </tr>\n",
       "    <tr>\n",
       "      <th>4</th>\n",
       "      <td>Kiss Me More</td>\n",
       "      <td>Doja Cat Featuring SZA</td>\n",
       "      <td>3</td>\n",
       "      <td>0.762</td>\n",
       "      <td>0.701</td>\n",
       "      <td>8.0</td>\n",
       "      <td>-3.541</td>\n",
       "      <td>1.0</td>\n",
       "      <td>0.0286</td>\n",
       "      <td>0.2350</td>\n",
       "      <td>...</td>\n",
       "      <td>0.0</td>\n",
       "      <td>0.0</td>\n",
       "      <td>0.0</td>\n",
       "      <td>0.0</td>\n",
       "      <td>0.0</td>\n",
       "      <td>0.0</td>\n",
       "      <td>0.0</td>\n",
       "      <td>0.0</td>\n",
       "      <td>0.0</td>\n",
       "      <td>0.0</td>\n",
       "    </tr>\n",
       "  </tbody>\n",
       "</table>\n",
       "<p>5 rows × 272 columns</p>\n",
       "</div>"
      ],
      "text/plain": [
       "       BB_Title                      BB_Artist  PeakPos  danceability  energy  \\\n",
       "0          Stay  The Kid LAROI & Justin Bieber        1         0.591   0.764   \n",
       "1    Bad Habits                     Ed Sheeran        2         0.808   0.897   \n",
       "2      Good 4 U                 Olivia Rodrigo        1         0.563   0.664   \n",
       "3        Rumors        Lizzo Featuring Cardi B        4         0.827   0.731   \n",
       "4  Kiss Me More         Doja Cat Featuring SZA        3         0.762   0.701   \n",
       "\n",
       "    key  loudness  mode  speechiness  acousticness  ...  tm_246  tm_247  \\\n",
       "0   1.0    -5.484   1.0       0.0483        0.0383  ...     0.0     0.0   \n",
       "1  11.0    -3.712   0.0       0.0348        0.0469  ...     0.0     0.0   \n",
       "2   9.0    -5.044   1.0       0.1540        0.3350  ...     0.0     0.0   \n",
       "3   4.0    -5.524   0.0       0.0880        0.1300  ...     0.0     0.0   \n",
       "4   8.0    -3.541   1.0       0.0286        0.2350  ...     0.0     0.0   \n",
       "\n",
       "   tm_248  tm_249  tm_250  tm_251  tm_252  tm_253  tm_254  tm_255  \n",
       "0     0.0     0.0     0.0     0.0     0.0     0.0     0.0     0.0  \n",
       "1     0.0     0.0     0.0     0.0     0.0     0.0     0.0     0.0  \n",
       "2     0.0     0.0     0.0     0.0     0.0     0.0     0.0     0.0  \n",
       "3     0.0     0.0     0.0     0.0     0.0     0.0     0.0     0.0  \n",
       "4     0.0     0.0     0.0     0.0     0.0     0.0     0.0     0.0  \n",
       "\n",
       "[5 rows x 272 columns]"
      ]
     },
     "execution_count": 2,
     "metadata": {},
     "output_type": "execute_result"
    }
   ],
   "source": [
    "#import data\n",
    "data = pd.read_csv('../data/processed/prepro-merged', index_col=0)\n",
    "\n",
    "data.head()"
   ]
  },
  {
   "cell_type": "code",
   "execution_count": 3,
   "id": "310e0c34",
   "metadata": {},
   "outputs": [
    {
     "data": {
      "text/plain": [
       "(4609, 272)"
      ]
     },
     "execution_count": 3,
     "metadata": {},
     "output_type": "execute_result"
    }
   ],
   "source": [
    "data.shape"
   ]
  },
  {
   "cell_type": "markdown",
   "id": "72981692",
   "metadata": {},
   "source": [
    "## 2.0 Picking the Classification Model"
   ]
  },
  {
   "cell_type": "markdown",
   "id": "19996ebb",
   "metadata": {},
   "source": [
    "During pre-processing and training in step 4, regression models were tested and the results indicated that estimating the Peak Position of a song would garner unreliable results. For that reason, the intention has pivoted to a model that classifies songs as having an attribute set likely to peak in the top 10 of the Billboard 100."
   ]
  },
  {
   "cell_type": "code",
   "execution_count": 4,
   "id": "f2095812",
   "metadata": {},
   "outputs": [
    {
     "data": {
      "text/plain": [
       "0    4061\n",
       "1     548\n",
       "Name: y, dtype: int64"
      ]
     },
     "execution_count": 4,
     "metadata": {},
     "output_type": "execute_result"
    }
   ],
   "source": [
    "#this variable changes the PeakPos value to a 1 or 0 if the song hits top 10 or not, respectively\n",
    "data['y'] = data.PeakPos.apply(lambda x: 1 if x <= 10 else 0)\n",
    "\n",
    "data.y.value_counts()"
   ]
  },
  {
   "cell_type": "code",
   "execution_count": 5,
   "id": "03741789",
   "metadata": {},
   "outputs": [],
   "source": [
    "features = data.drop(columns=['PeakPos','BB_Title', 'BB_Artist','y'])\n",
    "\n",
    "X = features.values\n",
    "y = data.y.values"
   ]
  },
  {
   "cell_type": "code",
   "execution_count": 6,
   "id": "5b8e8cc7",
   "metadata": {},
   "outputs": [],
   "source": [
    "X_train, X_test, y_train, y_test = train_test_split(X, y, test_size=0.3, random_state=42)"
   ]
  },
  {
   "cell_type": "code",
   "execution_count": 7,
   "id": "ef7c96f4",
   "metadata": {},
   "outputs": [],
   "source": [
    "scaler = StandardScaler()\n",
    "scaler.fit(X_train)\n",
    "X_train = scaler.transform(X_train)\n",
    "X_test = scaler.transform(X_test)"
   ]
  },
  {
   "cell_type": "code",
   "execution_count": 8,
   "id": "c8522faa",
   "metadata": {},
   "outputs": [],
   "source": [
    "#this will be how the different models are scored\n",
    "def scoring(model, X_test=X_test, y_test=y_test, X_train=X_train, y_train=y_train):\n",
    "    a_score = accuracy_score(model.predict(X_test), y_test)\n",
    "    cv_train = cross_val_score(model,X_train,y_train,cv=5,scoring='roc_auc')\n",
    "    cv_test = cross_val_score(model,X_test,y_test,cv=5,scoring='roc_auc')\n",
    "    \n",
    "    print(\"Accuracy Score: {0}\".format(a_score))\n",
    "    print(confusion_matrix(y_test, model.predict(X_test)))\n",
    "    print(\"Mean Test Data CV: {0}\".format(cv_train.mean()))\n",
    "    print(\"Mean Training Data CV: {0}\".format(cv_test.mean()))\n",
    "    \n",
    "    return a_score, cv_train.mean(), cv_test.mean()"
   ]
  },
  {
   "cell_type": "code",
   "execution_count": 9,
   "id": "62a028f1",
   "metadata": {},
   "outputs": [],
   "source": [
    "#this will create the roc_graph\n",
    "def ROC_graph(model, name, X_test=X_test, y_test=y_test):\n",
    "    roc_auc = roc_auc_score(y_test, model.predict(X_test))\n",
    "    fpr, tpr, thresholds = roc_curve(y_test, model.predict_proba(X_test)[:,1])\n",
    "    plt.figure()\n",
    "    plt.plot(fpr, tpr, label='{0} (area = %0.2f)'.format(name) % roc_auc)\n",
    "    plt.plot([0, 1], [0, 1],'r--')\n",
    "    plt.xlim([0.0, 1.0])\n",
    "    plt.ylim([0.0, 1.05])\n",
    "    plt.xlabel('False Positive Rate')\n",
    "    plt.ylabel('True Positive Rate')\n",
    "    plt.title('Receiver operating characteristic')\n",
    "    plt.legend(loc=\"lower right\")\n",
    "    plt.show()"
   ]
  },
  {
   "cell_type": "markdown",
   "id": "13427760",
   "metadata": {},
   "source": [
    "### 2.1 Logistic Regression"
   ]
  },
  {
   "cell_type": "code",
   "execution_count": 10,
   "id": "5658a8d7",
   "metadata": {},
   "outputs": [],
   "source": [
    "def cv_score(clf, x, y, score_func=accuracy_score):\n",
    "    result = 0\n",
    "    nfold = 5\n",
    "    for train, test in KFold(nfold).split(x): # split data into train/test groups, 5 times\n",
    "        clf.fit(x[train], y[train]) # fit\n",
    "        result += score_func(clf.predict(x[test]), y[test]) # evaluate score function on held-out data\n",
    "    return result / nfold # average"
   ]
  },
  {
   "cell_type": "code",
   "execution_count": 11,
   "id": "f3a7ac4d",
   "metadata": {},
   "outputs": [
    {
     "data": {
      "text/plain": [
       "(0.1,\n",
       " 0.8781817745458037,\n",
       " [0.8778707370341037,\n",
       "  0.8781817745458037,\n",
       "  0.8775616195070439,\n",
       "  0.8775620995032039,\n",
       "  0.8775620995032039])"
      ]
     },
     "execution_count": 11,
     "metadata": {},
     "output_type": "execute_result"
    }
   ],
   "source": [
    "#the grid of parameters to search over\n",
    "C = [0.001, 0.1, 1, 10, 100]\n",
    "\n",
    "scores = []\n",
    "max_score = 0\n",
    "max_c = 0\n",
    "\n",
    "for val in C:\n",
    "    lr = LogisticRegression(C=val, random_state=42)\n",
    "    score = cv_score(lr, X_train, y_train)\n",
    "    if score > max_score:\n",
    "        max_c = val\n",
    "        max_score = score\n",
    "    \n",
    "    scores.append(score)\n",
    "\n",
    "max_c, max_score, scores"
   ]
  },
  {
   "cell_type": "code",
   "execution_count": 12,
   "id": "ce6730c2",
   "metadata": {},
   "outputs": [
    {
     "data": {
      "text/plain": [
       "LogisticRegression(C=0.1, random_state=42)"
      ]
     },
     "execution_count": 12,
     "metadata": {},
     "output_type": "execute_result"
    }
   ],
   "source": [
    "#use the above best C, 0.1\n",
    "lr = LogisticRegression(C=0.1, random_state=42)\n",
    "lr.fit(X_train, y_train)"
   ]
  },
  {
   "cell_type": "code",
   "execution_count": 13,
   "id": "2e585009",
   "metadata": {},
   "outputs": [
    {
     "name": "stdout",
     "output_type": "stream",
     "text": [
      "Accuracy Score: 0.8879248011569053\n",
      "[[1226    3]\n",
      " [ 152    2]]\n",
      "Mean Test Data CV: 0.7399930079339462\n",
      "Mean Training Data CV: 0.6602995837726645\n"
     ]
    }
   ],
   "source": [
    "lr_accuracy_score, lr_cv_train, lr_cv_test = scoring(lr)"
   ]
  },
  {
   "cell_type": "code",
   "execution_count": 14,
   "id": "267e235c",
   "metadata": {},
   "outputs": [
    {
     "data": {
      "image/png": "[encoded data removed]",
      "text/plain": [
       "<Figure size 432x288 with 1 Axes>"
      ]
     },
     "metadata": {
      "needs_background": "light"
     },
     "output_type": "display_data"
    }
   ],
   "source": [
    "ROC_graph(lr, 'Logistic Regression')"
   ]
  },
  {
   "cell_type": "markdown",
   "id": "d5cd2d3a",
   "metadata": {},
   "source": [
    "### 2.2 K-Nearest Neighbor"
   ]
  },
  {
   "cell_type": "code",
   "execution_count": 15,
   "id": "2fba36dd",
   "metadata": {},
   "outputs": [
    {
     "name": "stdout",
     "output_type": "stream",
     "text": [
      "Best Score:0.8781774545803633\n",
      "Best Parameters: {'n_neighbors': 48}\n"
     ]
    }
   ],
   "source": [
    "param_grid = {'n_neighbors':np.arange(1,50)}\n",
    "knn = KNeighborsClassifier()\n",
    "knn_cv= GridSearchCV(knn,param_grid,cv=5)\n",
    "knn_cv.fit(X_train,y_train)\n",
    "print(\"Best Score:\" + str(knn_cv.best_score_))\n",
    "print(\"Best Parameters: \" + str(knn_cv.best_params_))"
   ]
  },
  {
   "cell_type": "code",
   "execution_count": 16,
   "id": "cd50fdf5",
   "metadata": {},
   "outputs": [
    {
     "data": {
      "text/plain": [
       "KNeighborsClassifier(n_neighbors=48)"
      ]
     },
     "execution_count": 16,
     "metadata": {},
     "output_type": "execute_result"
    }
   ],
   "source": [
    "knn = KNeighborsClassifier(n_neighbors=48)\n",
    "knn.fit(X_train, y_train)"
   ]
  },
  {
   "cell_type": "code",
   "execution_count": 17,
   "id": "b7b2eafa",
   "metadata": {},
   "outputs": [
    {
     "name": "stdout",
     "output_type": "stream",
     "text": [
      "Accuracy Score: 0.8893709327548807\n",
      "[[1229    0]\n",
      " [ 153    1]]\n",
      "Mean Test Data CV: 0.7105581540508707\n",
      "Mean Training Data CV: 0.6354820958018664\n"
     ]
    }
   ],
   "source": [
    "knn_accuracy_score, knn_cv_train, knn_cv_test = scoring(knn)"
   ]
  },
  {
   "cell_type": "code",
   "execution_count": 18,
   "id": "030c1e90",
   "metadata": {},
   "outputs": [
    {
     "data": {
      "image/png": "[encoded data removed]",
      "text/plain": [
       "<Figure size 432x288 with 1 Axes>"
      ]
     },
     "metadata": {
      "needs_background": "light"
     },
     "output_type": "display_data"
    }
   ],
   "source": [
    "ROC_graph(knn, 'KNN')"
   ]
  },
  {
   "cell_type": "markdown",
   "id": "0543228d",
   "metadata": {},
   "source": [
    "### 2.3 Random Forest Model"
   ]
  },
  {
   "cell_type": "code",
   "execution_count": 19,
   "id": "5bce36bb",
   "metadata": {},
   "outputs": [
    {
     "name": "stdout",
     "output_type": "stream",
     "text": [
      "Accuracy Score: 0.888647866955893\n",
      "[[1225    4]\n",
      " [ 150    4]]\n",
      "Mean Test Data CV: 0.6981677849524359\n",
      "Mean Training Data CV: 0.6584120650620595\n"
     ]
    }
   ],
   "source": [
    "rf = RandomForestClassifier(n_estimators = 100, random_state = 42)\n",
    "rf.fit(X_train,y_train)\n",
    "\n",
    "rf_accuracy_score, rf_cv_train, rf_cv_test = scoring(rf)"
   ]
  },
  {
   "cell_type": "code",
   "execution_count": 20,
   "id": "aeb4a5b4",
   "metadata": {},
   "outputs": [
    {
     "data": {
      "image/png": "[encoded data removed]",
      "text/plain": [
       "<Figure size 432x288 with 1 Axes>"
      ]
     },
     "metadata": {
      "needs_background": "light"
     },
     "output_type": "display_data"
    }
   ],
   "source": [
    "ROC_graph(rf, 'Random Forest')"
   ]
  },
  {
   "cell_type": "code",
   "execution_count": 21,
   "id": "0189ac7a",
   "metadata": {},
   "outputs": [
    {
     "data": {
      "image/png": "[encoded data removed]",
      "text/plain": [
       "<Figure size 432x288 with 1 Axes>"
      ]
     },
     "metadata": {
      "needs_background": "light"
     },
     "output_type": "display_data"
    }
   ],
   "source": [
    "feats = {} # a dict to hold feature_name: feature_importance\n",
    "for feature, importance in zip(features.columns, rf.feature_importances_):\n",
    "    if importance >= 0.02:\n",
    "        feats[feature] = importance #add the name/value pair \n",
    "\n",
    "importances = pd.DataFrame.from_dict(feats, orient='index').rename(columns={0: 'importance'})\n",
    "\n",
    "importances.sort_values(by='importance').plot(kind='bar', rot=45)\n",
    "plt.show()"
   ]
  },
  {
   "cell_type": "markdown",
   "id": "8395fc2b",
   "metadata": {},
   "source": [
    "#### 2.3.1 Random Forest Hyperparameter Tuning"
   ]
  },
  {
   "cell_type": "code",
   "execution_count": 22,
   "id": "5f6cbb8a",
   "metadata": {},
   "outputs": [],
   "source": [
    "#reference material: \n",
    "#https://towardsdatascience.com/hyperparameter-tuning-the-random-forest-in-python-using-scikit-learn-28d2aa77dd74"
   ]
  },
  {
   "cell_type": "code",
   "execution_count": 23,
   "id": "fcb45a26",
   "metadata": {},
   "outputs": [],
   "source": [
    "#random search will be done first, then grid search to focus the hyperparameter tuning\n",
    "max_depth = [int(x) for x in np.linspace(10, 110, num = 11)]\n",
    "max_depth.append(None)\n",
    "\n",
    "#values for this were referenced at the link\n",
    "random_grid = {'n_estimators': [int(x) for x in np.linspace(start = 10, stop = 500, num=10)],\n",
    "               'max_features': ['auto', 'sqrt'],\n",
    "               'max_depth': max_depth,\n",
    "               'min_samples_split': [2, 5, 10],\n",
    "               'min_samples_leaf': [1, 2, 4],\n",
    "               'bootstrap': [True, False]}"
   ]
  },
  {
   "cell_type": "code",
   "execution_count": 24,
   "id": "f6edcdc9",
   "metadata": {},
   "outputs": [
    {
     "name": "stdout",
     "output_type": "stream",
     "text": [
      "Fitting 3 folds for each of 100 candidates, totalling 300 fits\n"
     ]
    },
    {
     "data": {
      "text/plain": [
       "RandomizedSearchCV(cv=3, estimator=RandomForestClassifier(random_state=42),\n",
       "                   n_iter=100, n_jobs=-1,\n",
       "                   param_distributions={'bootstrap': [True, False],\n",
       "                                        'max_depth': [10, 20, 30, 40, 50, 60,\n",
       "                                                      70, 80, 90, 100, 110,\n",
       "                                                      None],\n",
       "                                        'max_features': ['auto', 'sqrt'],\n",
       "                                        'min_samples_leaf': [1, 2, 4],\n",
       "                                        'min_samples_split': [2, 5, 10],\n",
       "                                        'n_estimators': [10, 64, 118, 173, 227,\n",
       "                                                         282, 336, 391, 445,\n",
       "                                                         500]},\n",
       "                   random_state=42, verbose=2)"
      ]
     },
     "execution_count": 24,
     "metadata": {},
     "output_type": "execute_result"
    }
   ],
   "source": [
    "rf_random = RandomizedSearchCV(estimator = rf, param_distributions = random_grid, n_iter = 100, cv = 3, verbose=2, random_state=42, n_jobs = -1)\n",
    "\n",
    "rf_random.fit(X_train, y_train)"
   ]
  },
  {
   "cell_type": "code",
   "execution_count": 25,
   "id": "ee89e48a",
   "metadata": {},
   "outputs": [
    {
     "data": {
      "text/plain": [
       "{'n_estimators': 500,\n",
       " 'min_samples_split': 5,\n",
       " 'min_samples_leaf': 1,\n",
       " 'max_features': 'sqrt',\n",
       " 'max_depth': 10,\n",
       " 'bootstrap': True}"
      ]
     },
     "execution_count": 25,
     "metadata": {},
     "output_type": "execute_result"
    }
   ],
   "source": [
    "rf_random.best_params_"
   ]
  },
  {
   "cell_type": "code",
   "execution_count": 26,
   "id": "5275f7ef",
   "metadata": {},
   "outputs": [
    {
     "name": "stdout",
     "output_type": "stream",
     "text": [
      "Accuracy Score: 0.888647866955893\n",
      "[[1228    1]\n",
      " [ 153    1]]\n",
      "Mean Test Data CV: 0.7248226785781517\n",
      "Mean Training Data CV: 0.6677855563940761\n"
     ]
    }
   ],
   "source": [
    "#score this model based on best estimator\n",
    "best_random = rf_random.best_estimator_\n",
    "rfbr_accuracy_score, rfbr_cv_train, rfbr_cv_test = scoring(best_random)"
   ]
  },
  {
   "cell_type": "code",
   "execution_count": 27,
   "id": "2eed1c73",
   "metadata": {},
   "outputs": [],
   "source": [
    "#adjust params best on randomCV results\n",
    "param_grid = {\n",
    "    'bootstrap': [True],\n",
    "    'max_depth': [5, 10, 15, 20],\n",
    "    'max_features': ['sqrt'],\n",
    "    'min_samples_leaf': [1, 2, 3],\n",
    "    'min_samples_split': [3, 5, 7],\n",
    "    'n_estimators': [500, 750, 1000]\n",
    "}\n",
    "# Instantiate the grid search model\n",
    "grid_search = GridSearchCV(estimator = rf, param_grid = param_grid, \n",
    "                          cv = 3, n_jobs = -1, verbose = 2)"
   ]
  },
  {
   "cell_type": "code",
   "execution_count": 28,
   "id": "a2d29fed",
   "metadata": {},
   "outputs": [
    {
     "name": "stdout",
     "output_type": "stream",
     "text": [
      "Fitting 3 folds for each of 108 candidates, totalling 324 fits\n"
     ]
    },
    {
     "data": {
      "text/plain": [
       "GridSearchCV(cv=3, estimator=RandomForestClassifier(random_state=42), n_jobs=-1,\n",
       "             param_grid={'bootstrap': [True], 'max_depth': [5, 10, 15, 20],\n",
       "                         'max_features': ['sqrt'],\n",
       "                         'min_samples_leaf': [1, 2, 3],\n",
       "                         'min_samples_split': [3, 5, 7],\n",
       "                         'n_estimators': [500, 750, 1000]},\n",
       "             verbose=2)"
      ]
     },
     "execution_count": 28,
     "metadata": {},
     "output_type": "execute_result"
    }
   ],
   "source": [
    "# Fit the grid search to the data\n",
    "grid_search.fit(X_train, y_train)"
   ]
  },
  {
   "cell_type": "code",
   "execution_count": 29,
   "id": "b90e584c",
   "metadata": {},
   "outputs": [
    {
     "data": {
      "text/plain": [
       "{'bootstrap': True,\n",
       " 'max_depth': 10,\n",
       " 'max_features': 'sqrt',\n",
       " 'min_samples_leaf': 1,\n",
       " 'min_samples_split': 3,\n",
       " 'n_estimators': 750}"
      ]
     },
     "execution_count": 29,
     "metadata": {},
     "output_type": "execute_result"
    }
   ],
   "source": [
    "grid_search.best_params_"
   ]
  },
  {
   "cell_type": "code",
   "execution_count": 30,
   "id": "93a9261b",
   "metadata": {},
   "outputs": [
    {
     "name": "stdout",
     "output_type": "stream",
     "text": [
      "Accuracy Score: 0.888647866955893\n",
      "[[1228    1]\n",
      " [ 153    1]]\n",
      "Mean Test Data CV: 0.7250577198821099\n",
      "Mean Training Data CV: 0.6703967094312155\n"
     ]
    }
   ],
   "source": [
    "best_grid = grid_search.best_estimator_\n",
    "rfbg_accuracy_score, rfbg_cv_train, rfbg_cv_test = scoring(best_grid)"
   ]
  },
  {
   "cell_type": "code",
   "execution_count": 31,
   "id": "37c7d567",
   "metadata": {},
   "outputs": [
    {
     "data": {
      "image/png": "[encoded data removed]",
      "text/plain": [
       "<Figure size 432x288 with 1 Axes>"
      ]
     },
     "metadata": {
      "needs_background": "light"
     },
     "output_type": "display_data"
    }
   ],
   "source": [
    "ROC_graph(best_grid, 'Random Forest w Tuned Hyperparameters')"
   ]
  },
  {
   "cell_type": "markdown",
   "id": "f358c768",
   "metadata": {},
   "source": [
    "## 3.0 Conclusion"
   ]
  },
  {
   "cell_type": "code",
   "execution_count": 32,
   "id": "c9ac89b7",
   "metadata": {},
   "outputs": [],
   "source": [
    "x_label = ['LogReg', 'KNN', 'RF', 'RF - Tuned']\n",
    "\n",
    "accuracy_scores = [lr_accuracy_score, knn_accuracy_score, rf_accuracy_score, rfbg_accuracy_score]\n",
    "cv_train = [lr_cv_train, knn_cv_train, rf_cv_train, rfbg_cv_train]\n",
    "cv_test = [lr_cv_test, knn_cv_test, rf_cv_test, rfbg_cv_test]"
   ]
  },
  {
   "cell_type": "code",
   "execution_count": 33,
   "id": "ffa265b6",
   "metadata": {},
   "outputs": [
    {
     "data": {
      "image/png": "[encoded data removed]",
      "text/plain": [
       "<Figure size 360x216 with 1 Axes>"
      ]
     },
     "metadata": {
      "needs_background": "light"
     },
     "output_type": "display_data"
    }
   ],
   "source": [
    "plt.subplots(figsize=(5, 3))\n",
    "plt.ylim([0.88, 0.89])\n",
    "plt.bar(x_label, accuracy_scores)\n",
    "plt.title(\"Comparing accuracy score across models\")\n",
    "plt.show()"
   ]
  },
  {
   "cell_type": "code",
   "execution_count": 34,
   "id": "dab51398",
   "metadata": {},
   "outputs": [
    {
     "data": {
      "image/png": "[encoded data removed]",
      "text/plain": [
       "<Figure size 720x360 with 1 Axes>"
      ]
     },
     "metadata": {
      "needs_background": "light"
     },
     "output_type": "display_data"
    }
   ],
   "source": [
    "x_axis = np.arange(len(x_label))\n",
    "\n",
    "plt.subplots(figsize=(10, 5))\n",
    "plt.ylim([0.6, 0.75])\n",
    "plt.bar(x_axis-0.2, cv_train, 0.4, label='CV Train Score')\n",
    "plt.bar(x_axis+0.2, cv_test, 0.4, label='CV Test Score')\n",
    "\n",
    "plt.xlabel(\"Model\")\n",
    "plt.xticks(x_axis, x_label)\n",
    "plt.ylabel(\"Mean CV Score\")\n",
    "plt.title(\"Comparing average cv score across models\")\n",
    "plt.legend()\n",
    "\n",
    "plt.show()"
   ]
  },
  {
   "cell_type": "markdown",
   "id": "5d3fae5b",
   "metadata": {},
   "source": [
    "KNN had the best accuracy score but Random Forest is a better option for its CV scores and the benefit of available feature importances that could be used in future exploration."
   ]
  }
 ],
 "metadata": {
  "kernelspec": {
   "display_name": "Python 3",
   "language": "python",
   "name": "python3"
  },
  "language_info": {
   "codemirror_mode": {
    "name": "ipython",
    "version": 3
   },
   "file_extension": ".py",
   "mimetype": "text/x-python",
   "name": "python",
   "nbconvert_exporter": "python",
   "pygments_lexer": "ipython3",
   "version": "3.8.8"
  }
 },
 "nbformat": 4,
 "nbformat_minor": 5
}
