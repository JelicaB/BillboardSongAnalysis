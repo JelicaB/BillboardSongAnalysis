{
 "cells": [
  {
   "cell_type": "markdown",
   "id": "79f8eb36",
   "metadata": {},
   "source": [
    "# Preprocessing & Training - Billboard Hot 100 & Spotify Track Data"
   ]
  },
  {
   "cell_type": "markdown",
   "id": "926a7a3d",
   "metadata": {},
   "source": [
    "## 1.0 Import Data"
   ]
  },
  {
   "cell_type": "code",
   "execution_count": 1,
   "id": "1907dcbc",
   "metadata": {},
   "outputs": [],
   "source": [
    "import pandas as pd\n",
    "import numpy as np\n",
    "import os\n",
    "import matplotlib.pyplot as plt\n",
    "import seaborn as sns\n",
    "from sklearn.feature_extraction import FeatureHasher\n",
    "from sklearn.model_selection import train_test_split, cross_validate, GridSearchCV\n",
    "from sklearn.preprocessing import StandardScaler\n",
    "from sklearn.metrics import r2_score, mean_squared_error, mean_absolute_error\n",
    "from sklearn.linear_model import LinearRegression\n",
    "from sklearn.ensemble import RandomForestRegressor\n",
    "from sklearn.dummy import DummyRegressor\n",
    "from sklearn.pipeline import make_pipeline\n",
    "from sklearn.feature_selection import SelectKBest, f_regression"
   ]
  },
  {
   "cell_type": "code",
   "execution_count": 2,
   "id": "a666a9ba",
   "metadata": {},
   "outputs": [],
   "source": [
    "#unique song data\n",
    "songs = pd.read_csv('../data/processed/songs_eda', index_col=0)\n",
    "#genres by song\n",
    "genres = pd.read_csv('../data/processed/genres_eda', index_col=0)"
   ]
  },
  {
   "cell_type": "markdown",
   "id": "edf9f395",
   "metadata": {},
   "source": [
    "### 1.1 Unique Song Data"
   ]
  },
  {
   "cell_type": "code",
   "execution_count": 3,
   "id": "1466ee64",
   "metadata": {},
   "outputs": [
    {
     "data": {
      "text/html": [
       "<div>\n",
       "<style scoped>\n",
       "    .dataframe tbody tr th:only-of-type {\n",
       "        vertical-align: middle;\n",
       "    }\n",
       "\n",
       "    .dataframe tbody tr th {\n",
       "        vertical-align: top;\n",
       "    }\n",
       "\n",
       "    .dataframe thead th {\n",
       "        text-align: right;\n",
       "    }\n",
       "</style>\n",
       "<table border=\"1\" class=\"dataframe\">\n",
       "  <thead>\n",
       "    <tr style=\"text-align: right;\">\n",
       "      <th></th>\n",
       "      <th>Date</th>\n",
       "      <th>BB_Title</th>\n",
       "      <th>BB_Artist</th>\n",
       "      <th>PeakPos</th>\n",
       "      <th>Weeks</th>\n",
       "      <th>SP_Title</th>\n",
       "      <th>SP_Artist</th>\n",
       "      <th>SP_id</th>\n",
       "      <th>Genres</th>\n",
       "      <th>danceability</th>\n",
       "      <th>...</th>\n",
       "      <th>loudness</th>\n",
       "      <th>mode</th>\n",
       "      <th>speechiness</th>\n",
       "      <th>acousticness</th>\n",
       "      <th>instrumentalness</th>\n",
       "      <th>liveness</th>\n",
       "      <th>valence</th>\n",
       "      <th>tempo</th>\n",
       "      <th>duration_ms</th>\n",
       "      <th>time_signature</th>\n",
       "    </tr>\n",
       "  </thead>\n",
       "  <tbody>\n",
       "    <tr>\n",
       "      <th>0</th>\n",
       "      <td>2021-08-28</td>\n",
       "      <td>Stay</td>\n",
       "      <td>The Kid LAROI &amp; Justin Bieber</td>\n",
       "      <td>1</td>\n",
       "      <td>6</td>\n",
       "      <td>STAY (with Justin Bieber)</td>\n",
       "      <td>The Kid LAROI</td>\n",
       "      <td>5HCyWlXZPP0y6Gqq8TgA20</td>\n",
       "      <td>australian hip hop</td>\n",
       "      <td>0.591</td>\n",
       "      <td>...</td>\n",
       "      <td>-5.484</td>\n",
       "      <td>1.0</td>\n",
       "      <td>0.0483</td>\n",
       "      <td>0.0383</td>\n",
       "      <td>0.000000</td>\n",
       "      <td>0.1030</td>\n",
       "      <td>0.478</td>\n",
       "      <td>169.928</td>\n",
       "      <td>141806.0</td>\n",
       "      <td>4.0</td>\n",
       "    </tr>\n",
       "    <tr>\n",
       "      <th>1</th>\n",
       "      <td>2021-08-28</td>\n",
       "      <td>Bad Habits</td>\n",
       "      <td>Ed Sheeran</td>\n",
       "      <td>2</td>\n",
       "      <td>8</td>\n",
       "      <td>Bad Habits</td>\n",
       "      <td>Ed Sheeran</td>\n",
       "      <td>6PQ88X9TkUIAUIZJHW2upE</td>\n",
       "      <td>pop,uk pop</td>\n",
       "      <td>0.808</td>\n",
       "      <td>...</td>\n",
       "      <td>-3.712</td>\n",
       "      <td>0.0</td>\n",
       "      <td>0.0348</td>\n",
       "      <td>0.0469</td>\n",
       "      <td>0.000031</td>\n",
       "      <td>0.3640</td>\n",
       "      <td>0.591</td>\n",
       "      <td>126.026</td>\n",
       "      <td>231041.0</td>\n",
       "      <td>4.0</td>\n",
       "    </tr>\n",
       "    <tr>\n",
       "      <th>2</th>\n",
       "      <td>2021-08-28</td>\n",
       "      <td>Good 4 U</td>\n",
       "      <td>Olivia Rodrigo</td>\n",
       "      <td>1</td>\n",
       "      <td>14</td>\n",
       "      <td>good 4 u</td>\n",
       "      <td>Olivia Rodrigo</td>\n",
       "      <td>4ZtFanR9U6ndgddUvNcjcG</td>\n",
       "      <td>pop</td>\n",
       "      <td>0.563</td>\n",
       "      <td>...</td>\n",
       "      <td>-5.044</td>\n",
       "      <td>1.0</td>\n",
       "      <td>0.1540</td>\n",
       "      <td>0.3350</td>\n",
       "      <td>0.000000</td>\n",
       "      <td>0.0849</td>\n",
       "      <td>0.688</td>\n",
       "      <td>166.928</td>\n",
       "      <td>178147.0</td>\n",
       "      <td>4.0</td>\n",
       "    </tr>\n",
       "    <tr>\n",
       "      <th>3</th>\n",
       "      <td>2021-08-28</td>\n",
       "      <td>Rumors</td>\n",
       "      <td>Lizzo Featuring Cardi B</td>\n",
       "      <td>4</td>\n",
       "      <td>1</td>\n",
       "      <td>Rumors (feat. Cardi B)</td>\n",
       "      <td>Lizzo</td>\n",
       "      <td>6KgtcmCF9Ky68XC7ezxl3s</td>\n",
       "      <td>dance pop,escape room,minnesota hip hop,pop,tr...</td>\n",
       "      <td>0.827</td>\n",
       "      <td>...</td>\n",
       "      <td>-5.524</td>\n",
       "      <td>0.0</td>\n",
       "      <td>0.0880</td>\n",
       "      <td>0.1300</td>\n",
       "      <td>0.000000</td>\n",
       "      <td>0.4180</td>\n",
       "      <td>0.607</td>\n",
       "      <td>118.992</td>\n",
       "      <td>172833.0</td>\n",
       "      <td>4.0</td>\n",
       "    </tr>\n",
       "    <tr>\n",
       "      <th>4</th>\n",
       "      <td>2021-08-28</td>\n",
       "      <td>Kiss Me More</td>\n",
       "      <td>Doja Cat Featuring SZA</td>\n",
       "      <td>3</td>\n",
       "      <td>19</td>\n",
       "      <td>Kiss Me More (feat. SZA)</td>\n",
       "      <td>Doja Cat</td>\n",
       "      <td>748mdHapucXQri7IAO8yFK</td>\n",
       "      <td>dance pop,pop</td>\n",
       "      <td>0.762</td>\n",
       "      <td>...</td>\n",
       "      <td>-3.541</td>\n",
       "      <td>1.0</td>\n",
       "      <td>0.0286</td>\n",
       "      <td>0.2350</td>\n",
       "      <td>0.000158</td>\n",
       "      <td>0.1230</td>\n",
       "      <td>0.742</td>\n",
       "      <td>110.968</td>\n",
       "      <td>208867.0</td>\n",
       "      <td>4.0</td>\n",
       "    </tr>\n",
       "  </tbody>\n",
       "</table>\n",
       "<p>5 rows × 22 columns</p>\n",
       "</div>"
      ],
      "text/plain": [
       "         Date      BB_Title                      BB_Artist  PeakPos  Weeks  \\\n",
       "0  2021-08-28          Stay  The Kid LAROI & Justin Bieber        1      6   \n",
       "1  2021-08-28    Bad Habits                     Ed Sheeran        2      8   \n",
       "2  2021-08-28      Good 4 U                 Olivia Rodrigo        1     14   \n",
       "3  2021-08-28        Rumors        Lizzo Featuring Cardi B        4      1   \n",
       "4  2021-08-28  Kiss Me More         Doja Cat Featuring SZA        3     19   \n",
       "\n",
       "                    SP_Title       SP_Artist                   SP_id  \\\n",
       "0  STAY (with Justin Bieber)   The Kid LAROI  5HCyWlXZPP0y6Gqq8TgA20   \n",
       "1                 Bad Habits      Ed Sheeran  6PQ88X9TkUIAUIZJHW2upE   \n",
       "2                   good 4 u  Olivia Rodrigo  4ZtFanR9U6ndgddUvNcjcG   \n",
       "3     Rumors (feat. Cardi B)           Lizzo  6KgtcmCF9Ky68XC7ezxl3s   \n",
       "4   Kiss Me More (feat. SZA)        Doja Cat  748mdHapucXQri7IAO8yFK   \n",
       "\n",
       "                                              Genres  danceability  ...  \\\n",
       "0                                 australian hip hop         0.591  ...   \n",
       "1                                         pop,uk pop         0.808  ...   \n",
       "2                                                pop         0.563  ...   \n",
       "3  dance pop,escape room,minnesota hip hop,pop,tr...         0.827  ...   \n",
       "4                                      dance pop,pop         0.762  ...   \n",
       "\n",
       "   loudness  mode  speechiness  acousticness  instrumentalness  liveness  \\\n",
       "0    -5.484   1.0       0.0483        0.0383          0.000000    0.1030   \n",
       "1    -3.712   0.0       0.0348        0.0469          0.000031    0.3640   \n",
       "2    -5.044   1.0       0.1540        0.3350          0.000000    0.0849   \n",
       "3    -5.524   0.0       0.0880        0.1300          0.000000    0.4180   \n",
       "4    -3.541   1.0       0.0286        0.2350          0.000158    0.1230   \n",
       "\n",
       "   valence    tempo  duration_ms  time_signature  \n",
       "0    0.478  169.928     141806.0             4.0  \n",
       "1    0.591  126.026     231041.0             4.0  \n",
       "2    0.688  166.928     178147.0             4.0  \n",
       "3    0.607  118.992     172833.0             4.0  \n",
       "4    0.742  110.968     208867.0             4.0  \n",
       "\n",
       "[5 rows x 22 columns]"
      ]
     },
     "execution_count": 3,
     "metadata": {},
     "output_type": "execute_result"
    }
   ],
   "source": [
    "songs.head()"
   ]
  },
  {
   "cell_type": "code",
   "execution_count": 4,
   "id": "3547bd09",
   "metadata": {},
   "outputs": [
    {
     "name": "stdout",
     "output_type": "stream",
     "text": [
      "<class 'pandas.core.frame.DataFrame'>\n",
      "Int64Index: 4609 entries, 0 to 4608\n",
      "Data columns (total 22 columns):\n",
      " #   Column            Non-Null Count  Dtype  \n",
      "---  ------            --------------  -----  \n",
      " 0   Date              4609 non-null   object \n",
      " 1   BB_Title          4609 non-null   object \n",
      " 2   BB_Artist         4609 non-null   object \n",
      " 3   PeakPos           4609 non-null   int64  \n",
      " 4   Weeks             4609 non-null   int64  \n",
      " 5   SP_Title          4609 non-null   object \n",
      " 6   SP_Artist         4609 non-null   object \n",
      " 7   SP_id             4609 non-null   object \n",
      " 8   Genres            4571 non-null   object \n",
      " 9   danceability      4609 non-null   float64\n",
      " 10  energy            4609 non-null   float64\n",
      " 11  key               4609 non-null   float64\n",
      " 12  loudness          4609 non-null   float64\n",
      " 13  mode              4609 non-null   float64\n",
      " 14  speechiness       4609 non-null   float64\n",
      " 15  acousticness      4609 non-null   float64\n",
      " 16  instrumentalness  4609 non-null   float64\n",
      " 17  liveness          4609 non-null   float64\n",
      " 18  valence           4609 non-null   float64\n",
      " 19  tempo             4609 non-null   float64\n",
      " 20  duration_ms       4609 non-null   float64\n",
      " 21  time_signature    4609 non-null   float64\n",
      "dtypes: float64(13), int64(2), object(7)\n",
      "memory usage: 828.2+ KB\n"
     ]
    }
   ],
   "source": [
    "songs.info()"
   ]
  },
  {
   "cell_type": "markdown",
   "id": "3f4ac3af",
   "metadata": {},
   "source": [
    "#### 1.1.2 Song Attributes Only"
   ]
  },
  {
   "cell_type": "code",
   "execution_count": 5,
   "id": "8401268d-1e52-4308-b5b9-a09fb9b53bf0",
   "metadata": {},
   "outputs": [
    {
     "data": {
      "text/html": [
       "<div>\n",
       "<style scoped>\n",
       "    .dataframe tbody tr th:only-of-type {\n",
       "        vertical-align: middle;\n",
       "    }\n",
       "\n",
       "    .dataframe tbody tr th {\n",
       "        vertical-align: top;\n",
       "    }\n",
       "\n",
       "    .dataframe thead th {\n",
       "        text-align: right;\n",
       "    }\n",
       "</style>\n",
       "<table border=\"1\" class=\"dataframe\">\n",
       "  <thead>\n",
       "    <tr style=\"text-align: right;\">\n",
       "      <th></th>\n",
       "      <th>BB_Title</th>\n",
       "      <th>BB_Artist</th>\n",
       "      <th>PeakPos</th>\n",
       "      <th>danceability</th>\n",
       "      <th>energy</th>\n",
       "      <th>key</th>\n",
       "      <th>loudness</th>\n",
       "      <th>mode</th>\n",
       "      <th>speechiness</th>\n",
       "      <th>acousticness</th>\n",
       "      <th>instrumentalness</th>\n",
       "      <th>liveness</th>\n",
       "      <th>valence</th>\n",
       "      <th>tempo</th>\n",
       "      <th>duration_ms</th>\n",
       "      <th>time_signature</th>\n",
       "    </tr>\n",
       "  </thead>\n",
       "  <tbody>\n",
       "    <tr>\n",
       "      <th>0</th>\n",
       "      <td>Stay</td>\n",
       "      <td>The Kid LAROI &amp; Justin Bieber</td>\n",
       "      <td>1</td>\n",
       "      <td>0.591</td>\n",
       "      <td>0.764</td>\n",
       "      <td>1.0</td>\n",
       "      <td>-5.484</td>\n",
       "      <td>1.0</td>\n",
       "      <td>0.0483</td>\n",
       "      <td>0.0383</td>\n",
       "      <td>0.000000</td>\n",
       "      <td>0.1030</td>\n",
       "      <td>0.478</td>\n",
       "      <td>169.928</td>\n",
       "      <td>141806.0</td>\n",
       "      <td>4.0</td>\n",
       "    </tr>\n",
       "    <tr>\n",
       "      <th>1</th>\n",
       "      <td>Bad Habits</td>\n",
       "      <td>Ed Sheeran</td>\n",
       "      <td>2</td>\n",
       "      <td>0.808</td>\n",
       "      <td>0.897</td>\n",
       "      <td>11.0</td>\n",
       "      <td>-3.712</td>\n",
       "      <td>0.0</td>\n",
       "      <td>0.0348</td>\n",
       "      <td>0.0469</td>\n",
       "      <td>0.000031</td>\n",
       "      <td>0.3640</td>\n",
       "      <td>0.591</td>\n",
       "      <td>126.026</td>\n",
       "      <td>231041.0</td>\n",
       "      <td>4.0</td>\n",
       "    </tr>\n",
       "    <tr>\n",
       "      <th>2</th>\n",
       "      <td>Good 4 U</td>\n",
       "      <td>Olivia Rodrigo</td>\n",
       "      <td>1</td>\n",
       "      <td>0.563</td>\n",
       "      <td>0.664</td>\n",
       "      <td>9.0</td>\n",
       "      <td>-5.044</td>\n",
       "      <td>1.0</td>\n",
       "      <td>0.1540</td>\n",
       "      <td>0.3350</td>\n",
       "      <td>0.000000</td>\n",
       "      <td>0.0849</td>\n",
       "      <td>0.688</td>\n",
       "      <td>166.928</td>\n",
       "      <td>178147.0</td>\n",
       "      <td>4.0</td>\n",
       "    </tr>\n",
       "    <tr>\n",
       "      <th>3</th>\n",
       "      <td>Rumors</td>\n",
       "      <td>Lizzo Featuring Cardi B</td>\n",
       "      <td>4</td>\n",
       "      <td>0.827</td>\n",
       "      <td>0.731</td>\n",
       "      <td>4.0</td>\n",
       "      <td>-5.524</td>\n",
       "      <td>0.0</td>\n",
       "      <td>0.0880</td>\n",
       "      <td>0.1300</td>\n",
       "      <td>0.000000</td>\n",
       "      <td>0.4180</td>\n",
       "      <td>0.607</td>\n",
       "      <td>118.992</td>\n",
       "      <td>172833.0</td>\n",
       "      <td>4.0</td>\n",
       "    </tr>\n",
       "    <tr>\n",
       "      <th>4</th>\n",
       "      <td>Kiss Me More</td>\n",
       "      <td>Doja Cat Featuring SZA</td>\n",
       "      <td>3</td>\n",
       "      <td>0.762</td>\n",
       "      <td>0.701</td>\n",
       "      <td>8.0</td>\n",
       "      <td>-3.541</td>\n",
       "      <td>1.0</td>\n",
       "      <td>0.0286</td>\n",
       "      <td>0.2350</td>\n",
       "      <td>0.000158</td>\n",
       "      <td>0.1230</td>\n",
       "      <td>0.742</td>\n",
       "      <td>110.968</td>\n",
       "      <td>208867.0</td>\n",
       "      <td>4.0</td>\n",
       "    </tr>\n",
       "  </tbody>\n",
       "</table>\n",
       "</div>"
      ],
      "text/plain": [
       "       BB_Title                      BB_Artist  PeakPos  danceability  energy  \\\n",
       "0          Stay  The Kid LAROI & Justin Bieber        1         0.591   0.764   \n",
       "1    Bad Habits                     Ed Sheeran        2         0.808   0.897   \n",
       "2      Good 4 U                 Olivia Rodrigo        1         0.563   0.664   \n",
       "3        Rumors        Lizzo Featuring Cardi B        4         0.827   0.731   \n",
       "4  Kiss Me More         Doja Cat Featuring SZA        3         0.762   0.701   \n",
       "\n",
       "    key  loudness  mode  speechiness  acousticness  instrumentalness  \\\n",
       "0   1.0    -5.484   1.0       0.0483        0.0383          0.000000   \n",
       "1  11.0    -3.712   0.0       0.0348        0.0469          0.000031   \n",
       "2   9.0    -5.044   1.0       0.1540        0.3350          0.000000   \n",
       "3   4.0    -5.524   0.0       0.0880        0.1300          0.000000   \n",
       "4   8.0    -3.541   1.0       0.0286        0.2350          0.000158   \n",
       "\n",
       "   liveness  valence    tempo  duration_ms  time_signature  \n",
       "0    0.1030    0.478  169.928     141806.0             4.0  \n",
       "1    0.3640    0.591  126.026     231041.0             4.0  \n",
       "2    0.0849    0.688  166.928     178147.0             4.0  \n",
       "3    0.4180    0.607  118.992     172833.0             4.0  \n",
       "4    0.1230    0.742  110.968     208867.0             4.0  "
      ]
     },
     "execution_count": 5,
     "metadata": {},
     "output_type": "execute_result"
    }
   ],
   "source": [
    "song_atts = songs.drop(columns=['Date','Weeks','SP_Title','SP_Artist','SP_id','Genres'])\n",
    "\n",
    "song_atts.head()"
   ]
  },
  {
   "cell_type": "markdown",
   "id": "069fb20d",
   "metadata": {},
   "source": [
    "### 1.2 Genres Data"
   ]
  },
  {
   "cell_type": "code",
   "execution_count": 6,
   "id": "5918c8a5",
   "metadata": {},
   "outputs": [
    {
     "data": {
      "text/html": [
       "<div>\n",
       "<style scoped>\n",
       "    .dataframe tbody tr th:only-of-type {\n",
       "        vertical-align: middle;\n",
       "    }\n",
       "\n",
       "    .dataframe tbody tr th {\n",
       "        vertical-align: top;\n",
       "    }\n",
       "\n",
       "    .dataframe thead th {\n",
       "        text-align: right;\n",
       "    }\n",
       "</style>\n",
       "<table border=\"1\" class=\"dataframe\">\n",
       "  <thead>\n",
       "    <tr style=\"text-align: right;\">\n",
       "      <th></th>\n",
       "      <th>BB_Title</th>\n",
       "      <th>BB_Artist</th>\n",
       "      <th>Genres</th>\n",
       "    </tr>\n",
       "  </thead>\n",
       "  <tbody>\n",
       "    <tr>\n",
       "      <th>0</th>\n",
       "      <td>Stay</td>\n",
       "      <td>The Kid LAROI &amp; Justin Bieber</td>\n",
       "      <td>australian hip hop</td>\n",
       "    </tr>\n",
       "    <tr>\n",
       "      <th>1</th>\n",
       "      <td>Bad Habits</td>\n",
       "      <td>Ed Sheeran</td>\n",
       "      <td>pop</td>\n",
       "    </tr>\n",
       "    <tr>\n",
       "      <th>2</th>\n",
       "      <td>Bad Habits</td>\n",
       "      <td>Ed Sheeran</td>\n",
       "      <td>uk pop</td>\n",
       "    </tr>\n",
       "    <tr>\n",
       "      <th>3</th>\n",
       "      <td>Good 4 U</td>\n",
       "      <td>Olivia Rodrigo</td>\n",
       "      <td>pop</td>\n",
       "    </tr>\n",
       "    <tr>\n",
       "      <th>4</th>\n",
       "      <td>Rumors</td>\n",
       "      <td>Lizzo Featuring Cardi B</td>\n",
       "      <td>dance pop</td>\n",
       "    </tr>\n",
       "  </tbody>\n",
       "</table>\n",
       "</div>"
      ],
      "text/plain": [
       "     BB_Title                      BB_Artist              Genres\n",
       "0        Stay  The Kid LAROI & Justin Bieber  australian hip hop\n",
       "1  Bad Habits                     Ed Sheeran                 pop\n",
       "2  Bad Habits                     Ed Sheeran              uk pop\n",
       "3    Good 4 U                 Olivia Rodrigo                 pop\n",
       "4      Rumors        Lizzo Featuring Cardi B           dance pop"
      ]
     },
     "execution_count": 6,
     "metadata": {},
     "output_type": "execute_result"
    }
   ],
   "source": [
    "genres.head()"
   ]
  },
  {
   "cell_type": "markdown",
   "id": "48f3c49d",
   "metadata": {},
   "source": [
    "#### 1.2.2 Genres Data, Categorical Data Converted to Numeric"
   ]
  },
  {
   "cell_type": "code",
   "execution_count": 7,
   "id": "0deb2102",
   "metadata": {},
   "outputs": [
    {
     "data": {
      "text/plain": [
       "pop                   1661\n",
       "rap                   1540\n",
       "dance pop             1064\n",
       "trap                   973\n",
       "hip hop                955\n",
       "                      ... \n",
       "french synthpop          1\n",
       "modern salsa             1\n",
       "south african rock       1\n",
       "mexican rock             1\n",
       "salsa                    1\n",
       "Name: Genres, Length: 444, dtype: int64"
      ]
     },
     "execution_count": 7,
     "metadata": {},
     "output_type": "execute_result"
    }
   ],
   "source": [
    "counts = genres['Genres'].value_counts()\n",
    "counts"
   ]
  },
  {
   "cell_type": "code",
   "execution_count": 8,
   "id": "bb460a31",
   "metadata": {},
   "outputs": [],
   "source": [
    "#mask = genres['Genres'].isin(counts[counts < 10].index)\n",
    "#genres['Genres'][mask] = 'Other'\n",
    "\n",
    "#genres[genres.Genres == 'Other'].shape[0]"
   ]
  },
  {
   "cell_type": "code",
   "execution_count": 9,
   "id": "b9dd7dd2",
   "metadata": {},
   "outputs": [
    {
     "data": {
      "text/plain": [
       "pop              1661\n",
       "rap              1540\n",
       "dance pop        1064\n",
       "trap              973\n",
       "hip hop           955\n",
       "                 ... \n",
       "disco               1\n",
       "broadway            1\n",
       "dark clubbing       1\n",
       "comedy              1\n",
       "deep house          1\n",
       "Name: Genres, Length: 445, dtype: int64"
      ]
     },
     "execution_count": 9,
     "metadata": {},
     "output_type": "execute_result"
    }
   ],
   "source": [
    "genres['Genres'] = genres['Genres'].fillna('Unknown')\n",
    "genres.Genres.value_counts()"
   ]
  },
  {
   "cell_type": "code",
   "execution_count": 10,
   "id": "dee1b0f1",
   "metadata": {
    "scrolled": true
   },
   "outputs": [],
   "source": [
    "#this approach using pd.get_dummies\n",
    "#genre_dummies = pd.concat([genres, pd.get_dummies(data=genres.Genres)],axis=1)\\\n",
    "#                .groupby(by=['BB_Title','BB_Artist'],as_index=False).sum()\n",
    "\n",
    "#genre_dummies.head()"
   ]
  },
  {
   "cell_type": "code",
   "execution_count": 11,
   "id": "2b153308",
   "metadata": {},
   "outputs": [],
   "source": [
    "# this approach uses FeatureHasher\n",
    "features = 52\n",
    "#features = 445\n",
    "\n",
    "model = FeatureHasher(n_features=features, input_type='string')\n",
    "transformed_model = model.transform(genres.Genres)\n",
    "transformed_model.toarray()\n",
    "\n",
    "df = pd.DataFrame(transformed_model.toarray(), columns=['tm_'+str(i) for i in range(features)])\n",
    "#df"
   ]
  },
  {
   "cell_type": "code",
   "execution_count": 12,
   "id": "ee5bbf05",
   "metadata": {},
   "outputs": [
    {
     "data": {
      "text/html": [
       "<div>\n",
       "<style scoped>\n",
       "    .dataframe tbody tr th:only-of-type {\n",
       "        vertical-align: middle;\n",
       "    }\n",
       "\n",
       "    .dataframe tbody tr th {\n",
       "        vertical-align: top;\n",
       "    }\n",
       "\n",
       "    .dataframe thead th {\n",
       "        text-align: right;\n",
       "    }\n",
       "</style>\n",
       "<table border=\"1\" class=\"dataframe\">\n",
       "  <thead>\n",
       "    <tr style=\"text-align: right;\">\n",
       "      <th></th>\n",
       "      <th>BB_Title</th>\n",
       "      <th>BB_Artist</th>\n",
       "      <th>tm_0</th>\n",
       "      <th>tm_1</th>\n",
       "      <th>tm_2</th>\n",
       "      <th>tm_3</th>\n",
       "      <th>tm_4</th>\n",
       "      <th>tm_5</th>\n",
       "      <th>tm_6</th>\n",
       "      <th>tm_7</th>\n",
       "      <th>...</th>\n",
       "      <th>tm_42</th>\n",
       "      <th>tm_43</th>\n",
       "      <th>tm_44</th>\n",
       "      <th>tm_45</th>\n",
       "      <th>tm_46</th>\n",
       "      <th>tm_47</th>\n",
       "      <th>tm_48</th>\n",
       "      <th>tm_49</th>\n",
       "      <th>tm_50</th>\n",
       "      <th>tm_51</th>\n",
       "    </tr>\n",
       "  </thead>\n",
       "  <tbody>\n",
       "    <tr>\n",
       "      <th>0</th>\n",
       "      <td>#Beautiful</td>\n",
       "      <td>Mariah Carey Featuring Miguel</td>\n",
       "      <td>-1.0</td>\n",
       "      <td>0.0</td>\n",
       "      <td>-5.0</td>\n",
       "      <td>4.0</td>\n",
       "      <td>1.0</td>\n",
       "      <td>-2.0</td>\n",
       "      <td>0.0</td>\n",
       "      <td>0.0</td>\n",
       "      <td>...</td>\n",
       "      <td>0.0</td>\n",
       "      <td>0.0</td>\n",
       "      <td>1.0</td>\n",
       "      <td>0.0</td>\n",
       "      <td>3.0</td>\n",
       "      <td>0.0</td>\n",
       "      <td>0.0</td>\n",
       "      <td>0.0</td>\n",
       "      <td>0.0</td>\n",
       "      <td>0.0</td>\n",
       "    </tr>\n",
       "    <tr>\n",
       "      <th>1</th>\n",
       "      <td>#SELFIE</td>\n",
       "      <td>The Chainsmokers</td>\n",
       "      <td>1.0</td>\n",
       "      <td>0.0</td>\n",
       "      <td>-9.0</td>\n",
       "      <td>7.0</td>\n",
       "      <td>1.0</td>\n",
       "      <td>-4.0</td>\n",
       "      <td>0.0</td>\n",
       "      <td>0.0</td>\n",
       "      <td>...</td>\n",
       "      <td>0.0</td>\n",
       "      <td>0.0</td>\n",
       "      <td>1.0</td>\n",
       "      <td>0.0</td>\n",
       "      <td>3.0</td>\n",
       "      <td>-1.0</td>\n",
       "      <td>0.0</td>\n",
       "      <td>0.0</td>\n",
       "      <td>0.0</td>\n",
       "      <td>0.0</td>\n",
       "    </tr>\n",
       "    <tr>\n",
       "      <th>2</th>\n",
       "      <td>#thatPOWER</td>\n",
       "      <td>will.i.am Featuring Justin Bieber</td>\n",
       "      <td>1.0</td>\n",
       "      <td>0.0</td>\n",
       "      <td>-7.0</td>\n",
       "      <td>3.0</td>\n",
       "      <td>0.0</td>\n",
       "      <td>-1.0</td>\n",
       "      <td>0.0</td>\n",
       "      <td>0.0</td>\n",
       "      <td>...</td>\n",
       "      <td>0.0</td>\n",
       "      <td>0.0</td>\n",
       "      <td>0.0</td>\n",
       "      <td>0.0</td>\n",
       "      <td>2.0</td>\n",
       "      <td>0.0</td>\n",
       "      <td>0.0</td>\n",
       "      <td>0.0</td>\n",
       "      <td>0.0</td>\n",
       "      <td>0.0</td>\n",
       "    </tr>\n",
       "    <tr>\n",
       "      <th>3</th>\n",
       "      <td>$ave Dat Money</td>\n",
       "      <td>Lil Dicky Featuring Fetty Wap &amp; Rich Homie Quan</td>\n",
       "      <td>2.0</td>\n",
       "      <td>0.0</td>\n",
       "      <td>-5.0</td>\n",
       "      <td>2.0</td>\n",
       "      <td>0.0</td>\n",
       "      <td>-1.0</td>\n",
       "      <td>0.0</td>\n",
       "      <td>0.0</td>\n",
       "      <td>...</td>\n",
       "      <td>0.0</td>\n",
       "      <td>0.0</td>\n",
       "      <td>1.0</td>\n",
       "      <td>0.0</td>\n",
       "      <td>3.0</td>\n",
       "      <td>0.0</td>\n",
       "      <td>0.0</td>\n",
       "      <td>0.0</td>\n",
       "      <td>0.0</td>\n",
       "      <td>0.0</td>\n",
       "    </tr>\n",
       "    <tr>\n",
       "      <th>4</th>\n",
       "      <td>'Tis The Damn Season</td>\n",
       "      <td>Taylor Swift</td>\n",
       "      <td>0.0</td>\n",
       "      <td>0.0</td>\n",
       "      <td>-2.0</td>\n",
       "      <td>1.0</td>\n",
       "      <td>0.0</td>\n",
       "      <td>0.0</td>\n",
       "      <td>0.0</td>\n",
       "      <td>0.0</td>\n",
       "      <td>...</td>\n",
       "      <td>0.0</td>\n",
       "      <td>0.0</td>\n",
       "      <td>0.0</td>\n",
       "      <td>0.0</td>\n",
       "      <td>0.0</td>\n",
       "      <td>0.0</td>\n",
       "      <td>0.0</td>\n",
       "      <td>0.0</td>\n",
       "      <td>0.0</td>\n",
       "      <td>0.0</td>\n",
       "    </tr>\n",
       "  </tbody>\n",
       "</table>\n",
       "<p>5 rows × 54 columns</p>\n",
       "</div>"
      ],
      "text/plain": [
       "               BB_Title                                        BB_Artist  \\\n",
       "0            #Beautiful                    Mariah Carey Featuring Miguel   \n",
       "1               #SELFIE                                 The Chainsmokers   \n",
       "2            #thatPOWER                will.i.am Featuring Justin Bieber   \n",
       "3        $ave Dat Money  Lil Dicky Featuring Fetty Wap & Rich Homie Quan   \n",
       "4  'Tis The Damn Season                                     Taylor Swift   \n",
       "\n",
       "   tm_0  tm_1  tm_2  tm_3  tm_4  tm_5  tm_6  tm_7  ...  tm_42  tm_43  tm_44  \\\n",
       "0  -1.0   0.0  -5.0   4.0   1.0  -2.0   0.0   0.0  ...    0.0    0.0    1.0   \n",
       "1   1.0   0.0  -9.0   7.0   1.0  -4.0   0.0   0.0  ...    0.0    0.0    1.0   \n",
       "2   1.0   0.0  -7.0   3.0   0.0  -1.0   0.0   0.0  ...    0.0    0.0    0.0   \n",
       "3   2.0   0.0  -5.0   2.0   0.0  -1.0   0.0   0.0  ...    0.0    0.0    1.0   \n",
       "4   0.0   0.0  -2.0   1.0   0.0   0.0   0.0   0.0  ...    0.0    0.0    0.0   \n",
       "\n",
       "   tm_45  tm_46  tm_47  tm_48  tm_49  tm_50  tm_51  \n",
       "0    0.0    3.0    0.0    0.0    0.0    0.0    0.0  \n",
       "1    0.0    3.0   -1.0    0.0    0.0    0.0    0.0  \n",
       "2    0.0    2.0    0.0    0.0    0.0    0.0    0.0  \n",
       "3    0.0    3.0    0.0    0.0    0.0    0.0    0.0  \n",
       "4    0.0    0.0    0.0    0.0    0.0    0.0    0.0  \n",
       "\n",
       "[5 rows x 54 columns]"
      ]
     },
     "execution_count": 12,
     "metadata": {},
     "output_type": "execute_result"
    }
   ],
   "source": [
    "genre_hashed = pd.concat([genres, df], axis=1).groupby(by=['BB_Title','BB_Artist'],as_index=False).sum()\n",
    "\n",
    "genre_hashed.head()"
   ]
  },
  {
   "cell_type": "code",
   "execution_count": 13,
   "id": "7352ccb5",
   "metadata": {},
   "outputs": [
    {
     "data": {
      "text/html": [
       "<div>\n",
       "<style scoped>\n",
       "    .dataframe tbody tr th:only-of-type {\n",
       "        vertical-align: middle;\n",
       "    }\n",
       "\n",
       "    .dataframe tbody tr th {\n",
       "        vertical-align: top;\n",
       "    }\n",
       "\n",
       "    .dataframe thead th {\n",
       "        text-align: right;\n",
       "    }\n",
       "</style>\n",
       "<table border=\"1\" class=\"dataframe\">\n",
       "  <thead>\n",
       "    <tr style=\"text-align: right;\">\n",
       "      <th></th>\n",
       "      <th>BB_Title</th>\n",
       "      <th>BB_Artist</th>\n",
       "      <th>PeakPos</th>\n",
       "      <th>danceability</th>\n",
       "      <th>energy</th>\n",
       "      <th>key</th>\n",
       "      <th>loudness</th>\n",
       "      <th>mode</th>\n",
       "      <th>speechiness</th>\n",
       "      <th>acousticness</th>\n",
       "      <th>...</th>\n",
       "      <th>tm_42</th>\n",
       "      <th>tm_43</th>\n",
       "      <th>tm_44</th>\n",
       "      <th>tm_45</th>\n",
       "      <th>tm_46</th>\n",
       "      <th>tm_47</th>\n",
       "      <th>tm_48</th>\n",
       "      <th>tm_49</th>\n",
       "      <th>tm_50</th>\n",
       "      <th>tm_51</th>\n",
       "    </tr>\n",
       "  </thead>\n",
       "  <tbody>\n",
       "    <tr>\n",
       "      <th>0</th>\n",
       "      <td>Stay</td>\n",
       "      <td>The Kid LAROI &amp; Justin Bieber</td>\n",
       "      <td>1</td>\n",
       "      <td>0.591</td>\n",
       "      <td>0.764</td>\n",
       "      <td>1.0</td>\n",
       "      <td>-5.484</td>\n",
       "      <td>1.0</td>\n",
       "      <td>0.0483</td>\n",
       "      <td>0.03830</td>\n",
       "      <td>...</td>\n",
       "      <td>0.0</td>\n",
       "      <td>0.0</td>\n",
       "      <td>0.0</td>\n",
       "      <td>0.0</td>\n",
       "      <td>3.0</td>\n",
       "      <td>-1.0</td>\n",
       "      <td>0.0</td>\n",
       "      <td>0.0</td>\n",
       "      <td>0.0</td>\n",
       "      <td>0.0</td>\n",
       "    </tr>\n",
       "    <tr>\n",
       "      <th>1</th>\n",
       "      <td>Bad Habits</td>\n",
       "      <td>Ed Sheeran</td>\n",
       "      <td>2</td>\n",
       "      <td>0.808</td>\n",
       "      <td>0.897</td>\n",
       "      <td>11.0</td>\n",
       "      <td>-3.712</td>\n",
       "      <td>0.0</td>\n",
       "      <td>0.0348</td>\n",
       "      <td>0.04690</td>\n",
       "      <td>...</td>\n",
       "      <td>0.0</td>\n",
       "      <td>0.0</td>\n",
       "      <td>0.0</td>\n",
       "      <td>0.0</td>\n",
       "      <td>0.0</td>\n",
       "      <td>0.0</td>\n",
       "      <td>0.0</td>\n",
       "      <td>0.0</td>\n",
       "      <td>0.0</td>\n",
       "      <td>0.0</td>\n",
       "    </tr>\n",
       "    <tr>\n",
       "      <th>2</th>\n",
       "      <td>Good 4 U</td>\n",
       "      <td>Olivia Rodrigo</td>\n",
       "      <td>1</td>\n",
       "      <td>0.563</td>\n",
       "      <td>0.664</td>\n",
       "      <td>9.0</td>\n",
       "      <td>-5.044</td>\n",
       "      <td>1.0</td>\n",
       "      <td>0.1540</td>\n",
       "      <td>0.33500</td>\n",
       "      <td>...</td>\n",
       "      <td>0.0</td>\n",
       "      <td>0.0</td>\n",
       "      <td>0.0</td>\n",
       "      <td>0.0</td>\n",
       "      <td>0.0</td>\n",
       "      <td>0.0</td>\n",
       "      <td>0.0</td>\n",
       "      <td>0.0</td>\n",
       "      <td>0.0</td>\n",
       "      <td>0.0</td>\n",
       "    </tr>\n",
       "    <tr>\n",
       "      <th>3</th>\n",
       "      <td>Rumors</td>\n",
       "      <td>Lizzo Featuring Cardi B</td>\n",
       "      <td>4</td>\n",
       "      <td>0.827</td>\n",
       "      <td>0.731</td>\n",
       "      <td>4.0</td>\n",
       "      <td>-5.524</td>\n",
       "      <td>0.0</td>\n",
       "      <td>0.0880</td>\n",
       "      <td>0.13000</td>\n",
       "      <td>...</td>\n",
       "      <td>0.0</td>\n",
       "      <td>0.0</td>\n",
       "      <td>2.0</td>\n",
       "      <td>0.0</td>\n",
       "      <td>4.0</td>\n",
       "      <td>-2.0</td>\n",
       "      <td>0.0</td>\n",
       "      <td>0.0</td>\n",
       "      <td>0.0</td>\n",
       "      <td>0.0</td>\n",
       "    </tr>\n",
       "    <tr>\n",
       "      <th>4</th>\n",
       "      <td>Kiss Me More</td>\n",
       "      <td>Doja Cat Featuring SZA</td>\n",
       "      <td>3</td>\n",
       "      <td>0.762</td>\n",
       "      <td>0.701</td>\n",
       "      <td>8.0</td>\n",
       "      <td>-3.541</td>\n",
       "      <td>1.0</td>\n",
       "      <td>0.0286</td>\n",
       "      <td>0.23500</td>\n",
       "      <td>...</td>\n",
       "      <td>0.0</td>\n",
       "      <td>0.0</td>\n",
       "      <td>0.0</td>\n",
       "      <td>0.0</td>\n",
       "      <td>1.0</td>\n",
       "      <td>0.0</td>\n",
       "      <td>0.0</td>\n",
       "      <td>0.0</td>\n",
       "      <td>0.0</td>\n",
       "      <td>0.0</td>\n",
       "    </tr>\n",
       "    <tr>\n",
       "      <th>...</th>\n",
       "      <td>...</td>\n",
       "      <td>...</td>\n",
       "      <td>...</td>\n",
       "      <td>...</td>\n",
       "      <td>...</td>\n",
       "      <td>...</td>\n",
       "      <td>...</td>\n",
       "      <td>...</td>\n",
       "      <td>...</td>\n",
       "      <td>...</td>\n",
       "      <td>...</td>\n",
       "      <td>...</td>\n",
       "      <td>...</td>\n",
       "      <td>...</td>\n",
       "      <td>...</td>\n",
       "      <td>...</td>\n",
       "      <td>...</td>\n",
       "      <td>...</td>\n",
       "      <td>...</td>\n",
       "      <td>...</td>\n",
       "      <td>...</td>\n",
       "    </tr>\n",
       "    <tr>\n",
       "      <th>4604</th>\n",
       "      <td>How To Hate</td>\n",
       "      <td>Lil Wayne Featuring T-Pain</td>\n",
       "      <td>84</td>\n",
       "      <td>0.402</td>\n",
       "      <td>0.754</td>\n",
       "      <td>7.0</td>\n",
       "      <td>-5.955</td>\n",
       "      <td>1.0</td>\n",
       "      <td>0.0874</td>\n",
       "      <td>0.22200</td>\n",
       "      <td>...</td>\n",
       "      <td>0.0</td>\n",
       "      <td>0.0</td>\n",
       "      <td>0.0</td>\n",
       "      <td>0.0</td>\n",
       "      <td>5.0</td>\n",
       "      <td>-1.0</td>\n",
       "      <td>0.0</td>\n",
       "      <td>0.0</td>\n",
       "      <td>0.0</td>\n",
       "      <td>0.0</td>\n",
       "    </tr>\n",
       "    <tr>\n",
       "      <th>4605</th>\n",
       "      <td>Nightmares Of The Bottom</td>\n",
       "      <td>Lil Wayne</td>\n",
       "      <td>90</td>\n",
       "      <td>0.810</td>\n",
       "      <td>0.577</td>\n",
       "      <td>8.0</td>\n",
       "      <td>-6.142</td>\n",
       "      <td>1.0</td>\n",
       "      <td>0.1490</td>\n",
       "      <td>0.00953</td>\n",
       "      <td>...</td>\n",
       "      <td>0.0</td>\n",
       "      <td>0.0</td>\n",
       "      <td>0.0</td>\n",
       "      <td>0.0</td>\n",
       "      <td>5.0</td>\n",
       "      <td>-1.0</td>\n",
       "      <td>0.0</td>\n",
       "      <td>0.0</td>\n",
       "      <td>0.0</td>\n",
       "      <td>0.0</td>\n",
       "    </tr>\n",
       "    <tr>\n",
       "      <th>4606</th>\n",
       "      <td>President Carter</td>\n",
       "      <td>Lil Wayne</td>\n",
       "      <td>94</td>\n",
       "      <td>0.598</td>\n",
       "      <td>0.619</td>\n",
       "      <td>2.0</td>\n",
       "      <td>-7.465</td>\n",
       "      <td>0.0</td>\n",
       "      <td>0.2400</td>\n",
       "      <td>0.67400</td>\n",
       "      <td>...</td>\n",
       "      <td>0.0</td>\n",
       "      <td>0.0</td>\n",
       "      <td>0.0</td>\n",
       "      <td>0.0</td>\n",
       "      <td>5.0</td>\n",
       "      <td>-1.0</td>\n",
       "      <td>0.0</td>\n",
       "      <td>0.0</td>\n",
       "      <td>0.0</td>\n",
       "      <td>0.0</td>\n",
       "    </tr>\n",
       "    <tr>\n",
       "      <th>4607</th>\n",
       "      <td>So Special</td>\n",
       "      <td>Lil Wayne Featuring John Legend</td>\n",
       "      <td>95</td>\n",
       "      <td>0.404</td>\n",
       "      <td>0.871</td>\n",
       "      <td>5.0</td>\n",
       "      <td>-4.606</td>\n",
       "      <td>0.0</td>\n",
       "      <td>0.1330</td>\n",
       "      <td>0.01180</td>\n",
       "      <td>...</td>\n",
       "      <td>0.0</td>\n",
       "      <td>0.0</td>\n",
       "      <td>0.0</td>\n",
       "      <td>0.0</td>\n",
       "      <td>5.0</td>\n",
       "      <td>-1.0</td>\n",
       "      <td>0.0</td>\n",
       "      <td>0.0</td>\n",
       "      <td>0.0</td>\n",
       "      <td>0.0</td>\n",
       "    </tr>\n",
       "    <tr>\n",
       "      <th>4608</th>\n",
       "      <td>Save Me, San Francisco</td>\n",
       "      <td>Train</td>\n",
       "      <td>75</td>\n",
       "      <td>0.639</td>\n",
       "      <td>0.938</td>\n",
       "      <td>2.0</td>\n",
       "      <td>-2.729</td>\n",
       "      <td>1.0</td>\n",
       "      <td>0.0433</td>\n",
       "      <td>0.05310</td>\n",
       "      <td>...</td>\n",
       "      <td>0.0</td>\n",
       "      <td>0.0</td>\n",
       "      <td>1.0</td>\n",
       "      <td>0.0</td>\n",
       "      <td>1.0</td>\n",
       "      <td>0.0</td>\n",
       "      <td>0.0</td>\n",
       "      <td>0.0</td>\n",
       "      <td>0.0</td>\n",
       "      <td>0.0</td>\n",
       "    </tr>\n",
       "  </tbody>\n",
       "</table>\n",
       "<p>4609 rows × 68 columns</p>\n",
       "</div>"
      ],
      "text/plain": [
       "                      BB_Title                        BB_Artist  PeakPos  \\\n",
       "0                         Stay    The Kid LAROI & Justin Bieber        1   \n",
       "1                   Bad Habits                       Ed Sheeran        2   \n",
       "2                     Good 4 U                   Olivia Rodrigo        1   \n",
       "3                       Rumors          Lizzo Featuring Cardi B        4   \n",
       "4                 Kiss Me More           Doja Cat Featuring SZA        3   \n",
       "...                        ...                              ...      ...   \n",
       "4604               How To Hate       Lil Wayne Featuring T-Pain       84   \n",
       "4605  Nightmares Of The Bottom                        Lil Wayne       90   \n",
       "4606          President Carter                        Lil Wayne       94   \n",
       "4607                So Special  Lil Wayne Featuring John Legend       95   \n",
       "4608    Save Me, San Francisco                            Train       75   \n",
       "\n",
       "      danceability  energy   key  loudness  mode  speechiness  acousticness  \\\n",
       "0            0.591   0.764   1.0    -5.484   1.0       0.0483       0.03830   \n",
       "1            0.808   0.897  11.0    -3.712   0.0       0.0348       0.04690   \n",
       "2            0.563   0.664   9.0    -5.044   1.0       0.1540       0.33500   \n",
       "3            0.827   0.731   4.0    -5.524   0.0       0.0880       0.13000   \n",
       "4            0.762   0.701   8.0    -3.541   1.0       0.0286       0.23500   \n",
       "...            ...     ...   ...       ...   ...          ...           ...   \n",
       "4604         0.402   0.754   7.0    -5.955   1.0       0.0874       0.22200   \n",
       "4605         0.810   0.577   8.0    -6.142   1.0       0.1490       0.00953   \n",
       "4606         0.598   0.619   2.0    -7.465   0.0       0.2400       0.67400   \n",
       "4607         0.404   0.871   5.0    -4.606   0.0       0.1330       0.01180   \n",
       "4608         0.639   0.938   2.0    -2.729   1.0       0.0433       0.05310   \n",
       "\n",
       "      ...  tm_42  tm_43  tm_44  tm_45  tm_46  tm_47  tm_48  tm_49  tm_50  \\\n",
       "0     ...    0.0    0.0    0.0    0.0    3.0   -1.0    0.0    0.0    0.0   \n",
       "1     ...    0.0    0.0    0.0    0.0    0.0    0.0    0.0    0.0    0.0   \n",
       "2     ...    0.0    0.0    0.0    0.0    0.0    0.0    0.0    0.0    0.0   \n",
       "3     ...    0.0    0.0    2.0    0.0    4.0   -2.0    0.0    0.0    0.0   \n",
       "4     ...    0.0    0.0    0.0    0.0    1.0    0.0    0.0    0.0    0.0   \n",
       "...   ...    ...    ...    ...    ...    ...    ...    ...    ...    ...   \n",
       "4604  ...    0.0    0.0    0.0    0.0    5.0   -1.0    0.0    0.0    0.0   \n",
       "4605  ...    0.0    0.0    0.0    0.0    5.0   -1.0    0.0    0.0    0.0   \n",
       "4606  ...    0.0    0.0    0.0    0.0    5.0   -1.0    0.0    0.0    0.0   \n",
       "4607  ...    0.0    0.0    0.0    0.0    5.0   -1.0    0.0    0.0    0.0   \n",
       "4608  ...    0.0    0.0    1.0    0.0    1.0    0.0    0.0    0.0    0.0   \n",
       "\n",
       "      tm_51  \n",
       "0       0.0  \n",
       "1       0.0  \n",
       "2       0.0  \n",
       "3       0.0  \n",
       "4       0.0  \n",
       "...     ...  \n",
       "4604    0.0  \n",
       "4605    0.0  \n",
       "4606    0.0  \n",
       "4607    0.0  \n",
       "4608    0.0  \n",
       "\n",
       "[4609 rows x 68 columns]"
      ]
     },
     "execution_count": 13,
     "metadata": {},
     "output_type": "execute_result"
    }
   ],
   "source": [
    "merged = pd.merge(song_atts, genre_hashed, how='left', on=['BB_Title','BB_Artist'])\n",
    "#merged = pd.merge(song_atts, genre_dummies, how='left', on=['BB_Title','BB_Artist'])\n",
    "\n",
    "merged"
   ]
  },
  {
   "cell_type": "markdown",
   "id": "d80c3885",
   "metadata": {},
   "source": [
    "## 2.0 Train Test Split"
   ]
  },
  {
   "cell_type": "code",
   "execution_count": 14,
   "id": "554df9ff",
   "metadata": {},
   "outputs": [],
   "source": [
    "X = merged.drop(columns=['PeakPos','BB_Title', 'BB_Artist'])\n",
    "y = merged.PeakPos\n",
    "\n",
    "#X = song_atts.drop(columns=['PeakPos','BB_Title', 'BB_Artist'])\n",
    "#y = song_atts.PeakPos\n",
    "\n",
    "X_train, X_test, y_train, y_test = train_test_split(X, y, test_size=0.3, random_state=42)"
   ]
  },
  {
   "cell_type": "code",
   "execution_count": 15,
   "id": "defc7fd4",
   "metadata": {},
   "outputs": [
    {
     "data": {
      "text/plain": [
       "((3226, 65), (1383, 65))"
      ]
     },
     "execution_count": 15,
     "metadata": {},
     "output_type": "execute_result"
    }
   ],
   "source": [
    "X_train.shape, X_test.shape"
   ]
  },
  {
   "cell_type": "markdown",
   "id": "200632ed",
   "metadata": {},
   "source": [
    "## 3.0 Initial Metrics"
   ]
  },
  {
   "cell_type": "code",
   "execution_count": 16,
   "id": "be9d80dd-f22e-40d4-8c9e-e26a115fed1f",
   "metadata": {},
   "outputs": [],
   "source": [
    "def scores(model, scaled, X_train=X_train, y_train=y_train, X_test=X_test, y_test=y_test, cv=5):\n",
    "    if scaled == True:\n",
    "        scaler = StandardScaler()\n",
    "        scaler.fit(X_train)\n",
    "        X_train = scaler.transform(X_train)\n",
    "        X_test = scaler.transform(X_test)\n",
    "    \n",
    "    model.fit(X_train, y_train)\n",
    "    \n",
    "    y_tr_pred = model.predict(X_train)\n",
    "    y_te_pred = model.predict(X_test)\n",
    "\n",
    "    r2_tr = r2_score(y_train, y_tr_pred)\n",
    "    r2_te = r2_score(y_test, y_te_pred)\n",
    "    mae_tr = mean_absolute_error(y_train, y_tr_pred)\n",
    "    mae_te = mean_absolute_error(y_test, y_te_pred)\n",
    "    mse_tr = mean_squared_error(y_train, y_tr_pred)\n",
    "    mse_te = mean_squared_error(y_test, y_te_pred)\n",
    "    \n",
    "    cv_results = cross_validate(model, X_train, y_train, cv=cv)\n",
    "    cv_scores = cv_results['test_score']\n",
    "    \n",
    "    #print(\"R2 score: {0}, {1}\".format(r2_tr, r2_te))\n",
    "    #print(\"MAE score: {0}, {1}\".format(mae_tr, mae_te))\n",
    "    #print(\"MSE score: {0}, {1}\".format(mse_tr, mse_te))\n",
    "    #print(\"CV scores: {0}\".format(cv_scores))\n",
    "    return cv_scores"
   ]
  },
  {
   "cell_type": "markdown",
   "id": "dd13ce19",
   "metadata": {},
   "source": [
    "### 3.1 Using the Training Set Mean"
   ]
  },
  {
   "cell_type": "code",
   "execution_count": 17,
   "id": "7f7fb932",
   "metadata": {},
   "outputs": [],
   "source": [
    "dumb_reg = DummyRegressor(strategy='mean')"
   ]
  },
  {
   "cell_type": "code",
   "execution_count": 18,
   "id": "f89fb765-0850-4ee1-a533-882a57b7713d",
   "metadata": {},
   "outputs": [],
   "source": [
    "dumb_reg_cv = scores(dumb_reg, scaled=False)"
   ]
  },
  {
   "cell_type": "markdown",
   "id": "def04c6c",
   "metadata": {},
   "source": [
    "### 3.2 Using Linear Regression"
   ]
  },
  {
   "cell_type": "code",
   "execution_count": 19,
   "id": "ce2eb68d",
   "metadata": {},
   "outputs": [],
   "source": [
    "lm = LinearRegression()"
   ]
  },
  {
   "cell_type": "code",
   "execution_count": 20,
   "id": "f30f4408-1e91-44e8-a64b-0063170a75ad",
   "metadata": {},
   "outputs": [],
   "source": [
    "lm_cv = scores(lm, scaled=True)"
   ]
  },
  {
   "cell_type": "markdown",
   "id": "868fb52f",
   "metadata": {},
   "source": [
    "### 3.3 Using K Feature Selection, K=10"
   ]
  },
  {
   "cell_type": "code",
   "execution_count": 21,
   "id": "8463866d",
   "metadata": {},
   "outputs": [],
   "source": [
    "pipe = make_pipeline(\n",
    "    StandardScaler(),\n",
    "    SelectKBest(f_regression),\n",
    "    LinearRegression()\n",
    ")"
   ]
  },
  {
   "cell_type": "code",
   "execution_count": 22,
   "id": "f2489176-9465-4c36-8e04-d54e5522ce38",
   "metadata": {},
   "outputs": [
    {
     "name": "stderr",
     "output_type": "stream",
     "text": [
      "C:\\Users\\jelic\\anaconda3\\lib\\site-packages\\sklearn\\feature_selection\\_univariate_selection.py:301: RuntimeWarning: invalid value encountered in true_divide\n",
      "  corr /= X_norms\n",
      "C:\\Users\\jelic\\anaconda3\\lib\\site-packages\\sklearn\\feature_selection\\_univariate_selection.py:301: RuntimeWarning: invalid value encountered in true_divide\n",
      "  corr /= X_norms\n",
      "C:\\Users\\jelic\\anaconda3\\lib\\site-packages\\sklearn\\feature_selection\\_univariate_selection.py:301: RuntimeWarning: invalid value encountered in true_divide\n",
      "  corr /= X_norms\n",
      "C:\\Users\\jelic\\anaconda3\\lib\\site-packages\\sklearn\\feature_selection\\_univariate_selection.py:301: RuntimeWarning: invalid value encountered in true_divide\n",
      "  corr /= X_norms\n",
      "C:\\Users\\jelic\\anaconda3\\lib\\site-packages\\sklearn\\feature_selection\\_univariate_selection.py:301: RuntimeWarning: invalid value encountered in true_divide\n",
      "  corr /= X_norms\n",
      "C:\\Users\\jelic\\anaconda3\\lib\\site-packages\\sklearn\\feature_selection\\_univariate_selection.py:301: RuntimeWarning: invalid value encountered in true_divide\n",
      "  corr /= X_norms\n"
     ]
    }
   ],
   "source": [
    "#already scaled, no need to do it again\n",
    "pipe_cv = scores(pipe, scaled=False)"
   ]
  },
  {
   "cell_type": "markdown",
   "id": "deb28890-f2f3-48db-8519-f42350153e77",
   "metadata": {},
   "source": [
    "### 3.4 Finding and Using K Best"
   ]
  },
  {
   "cell_type": "code",
   "execution_count": 23,
   "id": "b362292e",
   "metadata": {},
   "outputs": [],
   "source": [
    "#GridSearch to find KBest\n",
    "k = [k+1 for k in range(len(X_train.columns))]\n",
    "grid_params = {'selectkbest__k': k}"
   ]
  },
  {
   "cell_type": "code",
   "execution_count": 24,
   "id": "96e1ef0b",
   "metadata": {},
   "outputs": [],
   "source": [
    "lr_grid_cv = GridSearchCV(pipe, param_grid=grid_params, cv=5, n_jobs=-1)"
   ]
  },
  {
   "cell_type": "code",
   "execution_count": 25,
   "id": "6d221c63",
   "metadata": {},
   "outputs": [
    {
     "name": "stderr",
     "output_type": "stream",
     "text": [
      "C:\\Users\\jelic\\anaconda3\\lib\\site-packages\\sklearn\\feature_selection\\_univariate_selection.py:301: RuntimeWarning: invalid value encountered in true_divide\n",
      "  corr /= X_norms\n"
     ]
    },
    {
     "data": {
      "text/plain": [
       "GridSearchCV(cv=5,\n",
       "             estimator=Pipeline(steps=[('standardscaler', StandardScaler()),\n",
       "                                       ('selectkbest',\n",
       "                                        SelectKBest(score_func=<function f_regression at 0x000001BEB6078430>)),\n",
       "                                       ('linearregression',\n",
       "                                        LinearRegression())]),\n",
       "             n_jobs=-1,\n",
       "             param_grid={'selectkbest__k': [1, 2, 3, 4, 5, 6, 7, 8, 9, 10, 11,\n",
       "                                            12, 13, 14, 15, 16, 17, 18, 19, 20,\n",
       "                                            21, 22, 23, 24, 25, 26, 27, 28, 29,\n",
       "                                            30, ...]})"
      ]
     },
     "execution_count": 25,
     "metadata": {},
     "output_type": "execute_result"
    }
   ],
   "source": [
    "lr_grid_cv.fit(X_train, y_train)"
   ]
  },
  {
   "cell_type": "code",
   "execution_count": 26,
   "id": "92e8f2d9",
   "metadata": {},
   "outputs": [],
   "source": [
    "score_mean = lr_grid_cv.cv_results_['mean_test_score']\n",
    "score_std = lr_grid_cv.cv_results_['std_test_score']\n",
    "cv_k = [k for k in lr_grid_cv.cv_results_['param_selectkbest__k']]"
   ]
  },
  {
   "cell_type": "code",
   "execution_count": 27,
   "id": "5cfd0841",
   "metadata": {},
   "outputs": [
    {
     "data": {
      "text/plain": [
       "{'selectkbest__k': 39}"
      ]
     },
     "execution_count": 27,
     "metadata": {},
     "output_type": "execute_result"
    }
   ],
   "source": [
    "lr_grid_cv.best_params_"
   ]
  },
  {
   "cell_type": "code",
   "execution_count": 28,
   "id": "7e660f4f",
   "metadata": {},
   "outputs": [
    {
     "data": {
      "image/png": "[encoded data removed]",
      "text/plain": [
       "<Figure size 720x360 with 1 Axes>"
      ]
     },
     "metadata": {
      "needs_background": "light"
     },
     "output_type": "display_data"
    }
   ],
   "source": [
    "best_k = lr_grid_cv.best_params_['selectkbest__k']\n",
    "plt.subplots(figsize=(10, 5))\n",
    "plt.errorbar(cv_k, score_mean, yerr=score_std)\n",
    "plt.axvline(x=best_k, c='r', ls='--', alpha=.5)\n",
    "plt.xlabel('k')\n",
    "plt.ylabel('CV score (r-squared)')\n",
    "plt.title('Pipeline mean CV score (error bars +/- 1sd)');"
   ]
  },
  {
   "cell_type": "code",
   "execution_count": 29,
   "id": "63a89d2d-bf09-4fa8-9e2d-171b55f783d0",
   "metadata": {},
   "outputs": [
    {
     "data": {
      "text/plain": [
       "39"
      ]
     },
     "execution_count": 29,
     "metadata": {},
     "output_type": "execute_result"
    }
   ],
   "source": [
    "best_k = lr_grid_cv.best_params_['selectkbest__k']\n",
    "best_k"
   ]
  },
  {
   "cell_type": "code",
   "execution_count": 30,
   "id": "b7d0966c-5cb7-4b18-9e86-5e9d502131e1",
   "metadata": {},
   "outputs": [],
   "source": [
    "best_k_pipe = make_pipeline(\n",
    "    StandardScaler(),\n",
    "    SelectKBest(f_regression, k = best_k),\n",
    "    LinearRegression()\n",
    ")"
   ]
  },
  {
   "cell_type": "code",
   "execution_count": 31,
   "id": "78153dff-48d6-47d7-bd76-b601fece8883",
   "metadata": {},
   "outputs": [
    {
     "name": "stderr",
     "output_type": "stream",
     "text": [
      "C:\\Users\\jelic\\anaconda3\\lib\\site-packages\\sklearn\\feature_selection\\_univariate_selection.py:301: RuntimeWarning: invalid value encountered in true_divide\n",
      "  corr /= X_norms\n",
      "C:\\Users\\jelic\\anaconda3\\lib\\site-packages\\sklearn\\feature_selection\\_univariate_selection.py:301: RuntimeWarning: invalid value encountered in true_divide\n",
      "  corr /= X_norms\n",
      "C:\\Users\\jelic\\anaconda3\\lib\\site-packages\\sklearn\\feature_selection\\_univariate_selection.py:301: RuntimeWarning: invalid value encountered in true_divide\n",
      "  corr /= X_norms\n",
      "C:\\Users\\jelic\\anaconda3\\lib\\site-packages\\sklearn\\feature_selection\\_univariate_selection.py:301: RuntimeWarning: invalid value encountered in true_divide\n",
      "  corr /= X_norms\n",
      "C:\\Users\\jelic\\anaconda3\\lib\\site-packages\\sklearn\\feature_selection\\_univariate_selection.py:301: RuntimeWarning: invalid value encountered in true_divide\n",
      "  corr /= X_norms\n",
      "C:\\Users\\jelic\\anaconda3\\lib\\site-packages\\sklearn\\feature_selection\\_univariate_selection.py:301: RuntimeWarning: invalid value encountered in true_divide\n",
      "  corr /= X_norms\n"
     ]
    }
   ],
   "source": [
    "#already scaled no need to do it again\n",
    "best_k_pipe_cv = scores(best_k_pipe, scaled = False)"
   ]
  },
  {
   "cell_type": "markdown",
   "id": "d440e62a-706b-471f-af38-76d314cfb021",
   "metadata": {},
   "source": [
    "## 4.0 Visualizing Results"
   ]
  },
  {
   "cell_type": "code",
   "execution_count": 32,
   "id": "f6e045b0-d2f0-4c1b-a994-229d4fe23970",
   "metadata": {},
   "outputs": [],
   "source": [
    "data = [dumb_reg_cv, lm_cv, pipe_cv, best_k_pipe_cv]"
   ]
  },
  {
   "cell_type": "code",
   "execution_count": 33,
   "id": "14b6cd06-4eb9-491b-89e0-42906e9006f8",
   "metadata": {},
   "outputs": [
    {
     "data": {
      "image/png": "[encoded data removed]",
      "text/plain": [
       "<Figure size 432x288 with 1 Axes>"
      ]
     },
     "metadata": {
      "needs_background": "light"
     },
     "output_type": "display_data"
    }
   ],
   "source": [
    "sns.boxplot(data=data)\n",
    "plt.title(\"Boxplot of CV Scores\")\n",
    "plt.show()"
   ]
  },
  {
   "cell_type": "markdown",
   "id": "13ac917c",
   "metadata": {},
   "source": [
    "## 5.0 Optimizing the Number of Genre Features Used in Feature Hashing"
   ]
  },
  {
   "cell_type": "code",
   "execution_count": 34,
   "id": "2118255a",
   "metadata": {},
   "outputs": [],
   "source": [
    "cv_array = []\n",
    "\n",
    "for i in range(1,446):\n",
    "    model = FeatureHasher(n_features=i, input_type='string')\n",
    "    transformed_model = model.transform(genres.Genres)\n",
    "    transformed_model.toarray()\n",
    "\n",
    "    df = pd.DataFrame(transformed_model.toarray(), columns=['tm_'+str(i) for i in range(i)])\n",
    "    genre_hashed = pd.concat([genres, df], axis=1).groupby(by=['BB_Title','BB_Artist'],as_index=False).sum()\n",
    "\n",
    "    merged2 = pd.merge(song_atts, genre_hashed, how='left', on=['BB_Title','BB_Artist'])\n",
    "    \n",
    "    X = merged2.drop(columns=['PeakPos','BB_Title', 'BB_Artist'])\n",
    "    y = merged2.PeakPos\n",
    "\n",
    "    X_train2, X_test2, y_train2, y_test2 = train_test_split(X, y, test_size=0.3, random_state=42)\n",
    "\n",
    "    lm = LinearRegression()\n",
    "    lm_cv = scores(lm, scaled=True, X_train=X_train2, y_train=y_train2, X_test=X_test2, y_test=y_test2, cv=5)\n",
    "    cv_array.append(lm_cv)"
   ]
  },
  {
   "cell_type": "code",
   "execution_count": 35,
   "id": "40f685dd",
   "metadata": {},
   "outputs": [],
   "source": [
    "enumerate_list = list(enumerate(cv_array, 1))"
   ]
  },
  {
   "cell_type": "code",
   "execution_count": 36,
   "id": "2c665520",
   "metadata": {},
   "outputs": [
    {
     "data": {
      "text/plain": [
       "[38, 44, 52, 117, 136, 152, 176, 181, 215, 220, 272, 306, 373, 395]"
      ]
     },
     "execution_count": 36,
     "metadata": {},
     "output_type": "execute_result"
    }
   ],
   "source": [
    "max_mean = 0\n",
    "good_cv_array = []\n",
    "index_array = []\n",
    "\n",
    "for i,t in enumerate_list:\n",
    "    if t.mean() > max_mean:\n",
    "        max_mean = t.mean()\n",
    "        max_mean_index = i\n",
    "    if t.mean() > 0.0635:\n",
    "        good_cv_array.append(t)\n",
    "        index_array.append(i)\n",
    "\n",
    "#good_cv_array\n",
    "index_array"
   ]
  },
  {
   "cell_type": "code",
   "execution_count": 37,
   "id": "40cb7121",
   "metadata": {},
   "outputs": [
    {
     "data": {
      "text/plain": [
       "(52, 0.065326632391178)"
      ]
     },
     "execution_count": 37,
     "metadata": {},
     "output_type": "execute_result"
    }
   ],
   "source": [
    "max_mean_index, max_mean"
   ]
  },
  {
   "cell_type": "code",
   "execution_count": 38,
   "id": "6a1f71dd",
   "metadata": {},
   "outputs": [
    {
     "data": {
      "image/png": "[encoded data removed]",
      "text/plain": [
       "<Figure size 1440x720 with 1 Axes>"
      ]
     },
     "metadata": {
      "needs_background": "light"
     },
     "output_type": "display_data"
    }
   ],
   "source": [
    "plt.subplots(figsize=(20, 10))\n",
    "plt.title(\"Boxplot of CV Scores\")\n",
    "sns.boxplot(data=good_cv_array)\n",
    "plt.show()"
   ]
  }
 ],
 "metadata": {
  "kernelspec": {
   "display_name": "Python 3",
   "language": "python",
   "name": "python3"
  },
  "language_info": {
   "codemirror_mode": {
    "name": "ipython",
    "version": 3
   },
   "file_extension": ".py",
   "mimetype": "text/x-python",
   "name": "python",
   "nbconvert_exporter": "python",
   "pygments_lexer": "ipython3",
   "version": "3.8.8"
  }
 },
 "nbformat": 4,
 "nbformat_minor": 5
}
