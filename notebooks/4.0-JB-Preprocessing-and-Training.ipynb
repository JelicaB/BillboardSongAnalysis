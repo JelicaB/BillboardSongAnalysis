{
 "cells": [
  {
   "cell_type": "markdown",
   "id": "79f8eb36",
   "metadata": {},
   "source": [
    "# Preprocessing & Training - Billboard Hot 100 & Spotify Track Data"
   ]
  },
  {
   "cell_type": "markdown",
   "id": "926a7a3d",
   "metadata": {},
   "source": [
    "## 1.0 Import Data"
   ]
  },
  {
   "cell_type": "code",
   "execution_count": 1,
   "id": "1907dcbc",
   "metadata": {},
   "outputs": [],
   "source": [
    "import pandas as pd\n",
    "import numpy as np\n",
    "import os\n",
    "import matplotlib.pyplot as plt\n",
    "import seaborn as sns\n",
    "from sklearn.model_selection import train_test_split\n",
    "from sklearn.preprocessing import StandardScaler\n",
    "from sklearn.metrics import r2_score, mean_squared_error, mean_absolute_error\n",
    "from sklearn.linear_model import LinearRegression\n",
    "from sklearn.ensemble import RandomForestRegressor\n",
    "from sklearn.dummy import DummyRegressor"
   ]
  },
  {
   "cell_type": "code",
   "execution_count": 2,
   "id": "a666a9ba",
   "metadata": {},
   "outputs": [],
   "source": [
    "#unique song data\n",
    "songs = pd.read_csv('../data/processed/songs_eda', index_col=0)\n",
    "#genres by song\n",
    "genres = pd.read_csv('../data/processed/genres_eda', index_col=0)"
   ]
  },
  {
   "cell_type": "markdown",
   "id": "edf9f395",
   "metadata": {},
   "source": [
    "### 1.1 Unique Song Data"
   ]
  },
  {
   "cell_type": "code",
   "execution_count": 3,
   "id": "1466ee64",
   "metadata": {},
   "outputs": [
    {
     "data": {
      "text/html": [
       "<div>\n",
       "<style scoped>\n",
       "    .dataframe tbody tr th:only-of-type {\n",
       "        vertical-align: middle;\n",
       "    }\n",
       "\n",
       "    .dataframe tbody tr th {\n",
       "        vertical-align: top;\n",
       "    }\n",
       "\n",
       "    .dataframe thead th {\n",
       "        text-align: right;\n",
       "    }\n",
       "</style>\n",
       "<table border=\"1\" class=\"dataframe\">\n",
       "  <thead>\n",
       "    <tr style=\"text-align: right;\">\n",
       "      <th></th>\n",
       "      <th>Date</th>\n",
       "      <th>BB_Title</th>\n",
       "      <th>BB_Artist</th>\n",
       "      <th>PeakPos</th>\n",
       "      <th>Weeks</th>\n",
       "      <th>SP_Title</th>\n",
       "      <th>SP_Artist</th>\n",
       "      <th>SP_id</th>\n",
       "      <th>Genres</th>\n",
       "      <th>danceability</th>\n",
       "      <th>...</th>\n",
       "      <th>loudness</th>\n",
       "      <th>mode</th>\n",
       "      <th>speechiness</th>\n",
       "      <th>acousticness</th>\n",
       "      <th>instrumentalness</th>\n",
       "      <th>liveness</th>\n",
       "      <th>valence</th>\n",
       "      <th>tempo</th>\n",
       "      <th>duration_ms</th>\n",
       "      <th>time_signature</th>\n",
       "    </tr>\n",
       "  </thead>\n",
       "  <tbody>\n",
       "    <tr>\n",
       "      <th>0</th>\n",
       "      <td>2021-08-28</td>\n",
       "      <td>Stay</td>\n",
       "      <td>The Kid LAROI &amp; Justin Bieber</td>\n",
       "      <td>1</td>\n",
       "      <td>6</td>\n",
       "      <td>STAY (with Justin Bieber)</td>\n",
       "      <td>The Kid LAROI</td>\n",
       "      <td>5HCyWlXZPP0y6Gqq8TgA20</td>\n",
       "      <td>australian hip hop</td>\n",
       "      <td>0.591</td>\n",
       "      <td>...</td>\n",
       "      <td>-5.484</td>\n",
       "      <td>1.0</td>\n",
       "      <td>0.0483</td>\n",
       "      <td>0.0383</td>\n",
       "      <td>0.000000</td>\n",
       "      <td>0.1030</td>\n",
       "      <td>0.478</td>\n",
       "      <td>169.928</td>\n",
       "      <td>141806.0</td>\n",
       "      <td>4.0</td>\n",
       "    </tr>\n",
       "    <tr>\n",
       "      <th>1</th>\n",
       "      <td>2021-08-28</td>\n",
       "      <td>Bad Habits</td>\n",
       "      <td>Ed Sheeran</td>\n",
       "      <td>2</td>\n",
       "      <td>8</td>\n",
       "      <td>Bad Habits</td>\n",
       "      <td>Ed Sheeran</td>\n",
       "      <td>6PQ88X9TkUIAUIZJHW2upE</td>\n",
       "      <td>pop,uk pop</td>\n",
       "      <td>0.808</td>\n",
       "      <td>...</td>\n",
       "      <td>-3.712</td>\n",
       "      <td>0.0</td>\n",
       "      <td>0.0348</td>\n",
       "      <td>0.0469</td>\n",
       "      <td>0.000031</td>\n",
       "      <td>0.3640</td>\n",
       "      <td>0.591</td>\n",
       "      <td>126.026</td>\n",
       "      <td>231041.0</td>\n",
       "      <td>4.0</td>\n",
       "    </tr>\n",
       "    <tr>\n",
       "      <th>2</th>\n",
       "      <td>2021-08-28</td>\n",
       "      <td>Good 4 U</td>\n",
       "      <td>Olivia Rodrigo</td>\n",
       "      <td>1</td>\n",
       "      <td>14</td>\n",
       "      <td>good 4 u</td>\n",
       "      <td>Olivia Rodrigo</td>\n",
       "      <td>4ZtFanR9U6ndgddUvNcjcG</td>\n",
       "      <td>pop</td>\n",
       "      <td>0.563</td>\n",
       "      <td>...</td>\n",
       "      <td>-5.044</td>\n",
       "      <td>1.0</td>\n",
       "      <td>0.1540</td>\n",
       "      <td>0.3350</td>\n",
       "      <td>0.000000</td>\n",
       "      <td>0.0849</td>\n",
       "      <td>0.688</td>\n",
       "      <td>166.928</td>\n",
       "      <td>178147.0</td>\n",
       "      <td>4.0</td>\n",
       "    </tr>\n",
       "    <tr>\n",
       "      <th>3</th>\n",
       "      <td>2021-08-28</td>\n",
       "      <td>Rumors</td>\n",
       "      <td>Lizzo Featuring Cardi B</td>\n",
       "      <td>4</td>\n",
       "      <td>1</td>\n",
       "      <td>Rumors (feat. Cardi B)</td>\n",
       "      <td>Lizzo</td>\n",
       "      <td>6KgtcmCF9Ky68XC7ezxl3s</td>\n",
       "      <td>dance pop,escape room,minnesota hip hop,pop,tr...</td>\n",
       "      <td>0.827</td>\n",
       "      <td>...</td>\n",
       "      <td>-5.524</td>\n",
       "      <td>0.0</td>\n",
       "      <td>0.0880</td>\n",
       "      <td>0.1300</td>\n",
       "      <td>0.000000</td>\n",
       "      <td>0.4180</td>\n",
       "      <td>0.607</td>\n",
       "      <td>118.992</td>\n",
       "      <td>172833.0</td>\n",
       "      <td>4.0</td>\n",
       "    </tr>\n",
       "    <tr>\n",
       "      <th>4</th>\n",
       "      <td>2021-08-28</td>\n",
       "      <td>Kiss Me More</td>\n",
       "      <td>Doja Cat Featuring SZA</td>\n",
       "      <td>3</td>\n",
       "      <td>19</td>\n",
       "      <td>Kiss Me More (feat. SZA)</td>\n",
       "      <td>Doja Cat</td>\n",
       "      <td>748mdHapucXQri7IAO8yFK</td>\n",
       "      <td>dance pop,pop</td>\n",
       "      <td>0.762</td>\n",
       "      <td>...</td>\n",
       "      <td>-3.541</td>\n",
       "      <td>1.0</td>\n",
       "      <td>0.0286</td>\n",
       "      <td>0.2350</td>\n",
       "      <td>0.000158</td>\n",
       "      <td>0.1230</td>\n",
       "      <td>0.742</td>\n",
       "      <td>110.968</td>\n",
       "      <td>208867.0</td>\n",
       "      <td>4.0</td>\n",
       "    </tr>\n",
       "  </tbody>\n",
       "</table>\n",
       "<p>5 rows × 22 columns</p>\n",
       "</div>"
      ],
      "text/plain": [
       "         Date      BB_Title                      BB_Artist  PeakPos  Weeks  \\\n",
       "0  2021-08-28          Stay  The Kid LAROI & Justin Bieber        1      6   \n",
       "1  2021-08-28    Bad Habits                     Ed Sheeran        2      8   \n",
       "2  2021-08-28      Good 4 U                 Olivia Rodrigo        1     14   \n",
       "3  2021-08-28        Rumors        Lizzo Featuring Cardi B        4      1   \n",
       "4  2021-08-28  Kiss Me More         Doja Cat Featuring SZA        3     19   \n",
       "\n",
       "                    SP_Title       SP_Artist                   SP_id  \\\n",
       "0  STAY (with Justin Bieber)   The Kid LAROI  5HCyWlXZPP0y6Gqq8TgA20   \n",
       "1                 Bad Habits      Ed Sheeran  6PQ88X9TkUIAUIZJHW2upE   \n",
       "2                   good 4 u  Olivia Rodrigo  4ZtFanR9U6ndgddUvNcjcG   \n",
       "3     Rumors (feat. Cardi B)           Lizzo  6KgtcmCF9Ky68XC7ezxl3s   \n",
       "4   Kiss Me More (feat. SZA)        Doja Cat  748mdHapucXQri7IAO8yFK   \n",
       "\n",
       "                                              Genres  danceability  ...  \\\n",
       "0                                 australian hip hop         0.591  ...   \n",
       "1                                         pop,uk pop         0.808  ...   \n",
       "2                                                pop         0.563  ...   \n",
       "3  dance pop,escape room,minnesota hip hop,pop,tr...         0.827  ...   \n",
       "4                                      dance pop,pop         0.762  ...   \n",
       "\n",
       "   loudness  mode  speechiness  acousticness  instrumentalness  liveness  \\\n",
       "0    -5.484   1.0       0.0483        0.0383          0.000000    0.1030   \n",
       "1    -3.712   0.0       0.0348        0.0469          0.000031    0.3640   \n",
       "2    -5.044   1.0       0.1540        0.3350          0.000000    0.0849   \n",
       "3    -5.524   0.0       0.0880        0.1300          0.000000    0.4180   \n",
       "4    -3.541   1.0       0.0286        0.2350          0.000158    0.1230   \n",
       "\n",
       "   valence    tempo  duration_ms  time_signature  \n",
       "0    0.478  169.928     141806.0             4.0  \n",
       "1    0.591  126.026     231041.0             4.0  \n",
       "2    0.688  166.928     178147.0             4.0  \n",
       "3    0.607  118.992     172833.0             4.0  \n",
       "4    0.742  110.968     208867.0             4.0  \n",
       "\n",
       "[5 rows x 22 columns]"
      ]
     },
     "execution_count": 3,
     "metadata": {},
     "output_type": "execute_result"
    }
   ],
   "source": [
    "songs.head()"
   ]
  },
  {
   "cell_type": "code",
   "execution_count": 4,
   "id": "3547bd09",
   "metadata": {},
   "outputs": [
    {
     "name": "stdout",
     "output_type": "stream",
     "text": [
      "<class 'pandas.core.frame.DataFrame'>\n",
      "Int64Index: 4609 entries, 0 to 4608\n",
      "Data columns (total 22 columns):\n",
      " #   Column            Non-Null Count  Dtype  \n",
      "---  ------            --------------  -----  \n",
      " 0   Date              4609 non-null   object \n",
      " 1   BB_Title          4609 non-null   object \n",
      " 2   BB_Artist         4609 non-null   object \n",
      " 3   PeakPos           4609 non-null   int64  \n",
      " 4   Weeks             4609 non-null   int64  \n",
      " 5   SP_Title          4609 non-null   object \n",
      " 6   SP_Artist         4609 non-null   object \n",
      " 7   SP_id             4609 non-null   object \n",
      " 8   Genres            4571 non-null   object \n",
      " 9   danceability      4609 non-null   float64\n",
      " 10  energy            4609 non-null   float64\n",
      " 11  key               4609 non-null   float64\n",
      " 12  loudness          4609 non-null   float64\n",
      " 13  mode              4609 non-null   float64\n",
      " 14  speechiness       4609 non-null   float64\n",
      " 15  acousticness      4609 non-null   float64\n",
      " 16  instrumentalness  4609 non-null   float64\n",
      " 17  liveness          4609 non-null   float64\n",
      " 18  valence           4609 non-null   float64\n",
      " 19  tempo             4609 non-null   float64\n",
      " 20  duration_ms       4609 non-null   float64\n",
      " 21  time_signature    4609 non-null   float64\n",
      "dtypes: float64(13), int64(2), object(7)\n",
      "memory usage: 828.2+ KB\n"
     ]
    }
   ],
   "source": [
    "songs.info()"
   ]
  },
  {
   "cell_type": "markdown",
   "id": "3f4ac3af",
   "metadata": {},
   "source": [
    "#### 1.1.2 Song Attributes Only"
   ]
  },
  {
   "cell_type": "code",
   "execution_count": 5,
   "id": "ddfdffc4",
   "metadata": {},
   "outputs": [
    {
     "data": {
      "text/html": [
       "<div>\n",
       "<style scoped>\n",
       "    .dataframe tbody tr th:only-of-type {\n",
       "        vertical-align: middle;\n",
       "    }\n",
       "\n",
       "    .dataframe tbody tr th {\n",
       "        vertical-align: top;\n",
       "    }\n",
       "\n",
       "    .dataframe thead th {\n",
       "        text-align: right;\n",
       "    }\n",
       "</style>\n",
       "<table border=\"1\" class=\"dataframe\">\n",
       "  <thead>\n",
       "    <tr style=\"text-align: right;\">\n",
       "      <th></th>\n",
       "      <th>BB_Title</th>\n",
       "      <th>BB_Artist</th>\n",
       "      <th>PeakPos</th>\n",
       "      <th>danceability</th>\n",
       "      <th>energy</th>\n",
       "      <th>key</th>\n",
       "      <th>loudness</th>\n",
       "      <th>mode</th>\n",
       "      <th>speechiness</th>\n",
       "      <th>acousticness</th>\n",
       "      <th>instrumentalness</th>\n",
       "      <th>liveness</th>\n",
       "      <th>valence</th>\n",
       "      <th>tempo</th>\n",
       "      <th>duration_ms</th>\n",
       "      <th>time_signature</th>\n",
       "    </tr>\n",
       "  </thead>\n",
       "  <tbody>\n",
       "    <tr>\n",
       "      <th>0</th>\n",
       "      <td>Stay</td>\n",
       "      <td>The Kid LAROI &amp; Justin Bieber</td>\n",
       "      <td>1</td>\n",
       "      <td>0.591</td>\n",
       "      <td>0.764</td>\n",
       "      <td>1.0</td>\n",
       "      <td>-5.484</td>\n",
       "      <td>1.0</td>\n",
       "      <td>0.0483</td>\n",
       "      <td>0.0383</td>\n",
       "      <td>0.000000</td>\n",
       "      <td>0.1030</td>\n",
       "      <td>0.478</td>\n",
       "      <td>169.928</td>\n",
       "      <td>141806.0</td>\n",
       "      <td>4.0</td>\n",
       "    </tr>\n",
       "    <tr>\n",
       "      <th>1</th>\n",
       "      <td>Bad Habits</td>\n",
       "      <td>Ed Sheeran</td>\n",
       "      <td>2</td>\n",
       "      <td>0.808</td>\n",
       "      <td>0.897</td>\n",
       "      <td>11.0</td>\n",
       "      <td>-3.712</td>\n",
       "      <td>0.0</td>\n",
       "      <td>0.0348</td>\n",
       "      <td>0.0469</td>\n",
       "      <td>0.000031</td>\n",
       "      <td>0.3640</td>\n",
       "      <td>0.591</td>\n",
       "      <td>126.026</td>\n",
       "      <td>231041.0</td>\n",
       "      <td>4.0</td>\n",
       "    </tr>\n",
       "    <tr>\n",
       "      <th>2</th>\n",
       "      <td>Good 4 U</td>\n",
       "      <td>Olivia Rodrigo</td>\n",
       "      <td>1</td>\n",
       "      <td>0.563</td>\n",
       "      <td>0.664</td>\n",
       "      <td>9.0</td>\n",
       "      <td>-5.044</td>\n",
       "      <td>1.0</td>\n",
       "      <td>0.1540</td>\n",
       "      <td>0.3350</td>\n",
       "      <td>0.000000</td>\n",
       "      <td>0.0849</td>\n",
       "      <td>0.688</td>\n",
       "      <td>166.928</td>\n",
       "      <td>178147.0</td>\n",
       "      <td>4.0</td>\n",
       "    </tr>\n",
       "    <tr>\n",
       "      <th>3</th>\n",
       "      <td>Rumors</td>\n",
       "      <td>Lizzo Featuring Cardi B</td>\n",
       "      <td>4</td>\n",
       "      <td>0.827</td>\n",
       "      <td>0.731</td>\n",
       "      <td>4.0</td>\n",
       "      <td>-5.524</td>\n",
       "      <td>0.0</td>\n",
       "      <td>0.0880</td>\n",
       "      <td>0.1300</td>\n",
       "      <td>0.000000</td>\n",
       "      <td>0.4180</td>\n",
       "      <td>0.607</td>\n",
       "      <td>118.992</td>\n",
       "      <td>172833.0</td>\n",
       "      <td>4.0</td>\n",
       "    </tr>\n",
       "    <tr>\n",
       "      <th>4</th>\n",
       "      <td>Kiss Me More</td>\n",
       "      <td>Doja Cat Featuring SZA</td>\n",
       "      <td>3</td>\n",
       "      <td>0.762</td>\n",
       "      <td>0.701</td>\n",
       "      <td>8.0</td>\n",
       "      <td>-3.541</td>\n",
       "      <td>1.0</td>\n",
       "      <td>0.0286</td>\n",
       "      <td>0.2350</td>\n",
       "      <td>0.000158</td>\n",
       "      <td>0.1230</td>\n",
       "      <td>0.742</td>\n",
       "      <td>110.968</td>\n",
       "      <td>208867.0</td>\n",
       "      <td>4.0</td>\n",
       "    </tr>\n",
       "  </tbody>\n",
       "</table>\n",
       "</div>"
      ],
      "text/plain": [
       "       BB_Title                      BB_Artist  PeakPos  danceability  energy  \\\n",
       "0          Stay  The Kid LAROI & Justin Bieber        1         0.591   0.764   \n",
       "1    Bad Habits                     Ed Sheeran        2         0.808   0.897   \n",
       "2      Good 4 U                 Olivia Rodrigo        1         0.563   0.664   \n",
       "3        Rumors        Lizzo Featuring Cardi B        4         0.827   0.731   \n",
       "4  Kiss Me More         Doja Cat Featuring SZA        3         0.762   0.701   \n",
       "\n",
       "    key  loudness  mode  speechiness  acousticness  instrumentalness  \\\n",
       "0   1.0    -5.484   1.0       0.0483        0.0383          0.000000   \n",
       "1  11.0    -3.712   0.0       0.0348        0.0469          0.000031   \n",
       "2   9.0    -5.044   1.0       0.1540        0.3350          0.000000   \n",
       "3   4.0    -5.524   0.0       0.0880        0.1300          0.000000   \n",
       "4   8.0    -3.541   1.0       0.0286        0.2350          0.000158   \n",
       "\n",
       "   liveness  valence    tempo  duration_ms  time_signature  \n",
       "0    0.1030    0.478  169.928     141806.0             4.0  \n",
       "1    0.3640    0.591  126.026     231041.0             4.0  \n",
       "2    0.0849    0.688  166.928     178147.0             4.0  \n",
       "3    0.4180    0.607  118.992     172833.0             4.0  \n",
       "4    0.1230    0.742  110.968     208867.0             4.0  "
      ]
     },
     "execution_count": 5,
     "metadata": {},
     "output_type": "execute_result"
    }
   ],
   "source": [
    "song_atts = songs.drop(columns=['Date','Weeks','SP_Title','SP_Artist','SP_id','Genres'])\n",
    "\n",
    "song_atts.head()"
   ]
  },
  {
   "cell_type": "markdown",
   "id": "069fb20d",
   "metadata": {},
   "source": [
    "### 1.2 Genres Data"
   ]
  },
  {
   "cell_type": "code",
   "execution_count": 6,
   "id": "5918c8a5",
   "metadata": {},
   "outputs": [
    {
     "data": {
      "text/html": [
       "<div>\n",
       "<style scoped>\n",
       "    .dataframe tbody tr th:only-of-type {\n",
       "        vertical-align: middle;\n",
       "    }\n",
       "\n",
       "    .dataframe tbody tr th {\n",
       "        vertical-align: top;\n",
       "    }\n",
       "\n",
       "    .dataframe thead th {\n",
       "        text-align: right;\n",
       "    }\n",
       "</style>\n",
       "<table border=\"1\" class=\"dataframe\">\n",
       "  <thead>\n",
       "    <tr style=\"text-align: right;\">\n",
       "      <th></th>\n",
       "      <th>BB_Title</th>\n",
       "      <th>BB_Artist</th>\n",
       "      <th>Genres</th>\n",
       "    </tr>\n",
       "  </thead>\n",
       "  <tbody>\n",
       "    <tr>\n",
       "      <th>0</th>\n",
       "      <td>Stay</td>\n",
       "      <td>The Kid LAROI &amp; Justin Bieber</td>\n",
       "      <td>australian hip hop</td>\n",
       "    </tr>\n",
       "    <tr>\n",
       "      <th>1</th>\n",
       "      <td>Bad Habits</td>\n",
       "      <td>Ed Sheeran</td>\n",
       "      <td>pop</td>\n",
       "    </tr>\n",
       "    <tr>\n",
       "      <th>2</th>\n",
       "      <td>Bad Habits</td>\n",
       "      <td>Ed Sheeran</td>\n",
       "      <td>uk pop</td>\n",
       "    </tr>\n",
       "    <tr>\n",
       "      <th>3</th>\n",
       "      <td>Good 4 U</td>\n",
       "      <td>Olivia Rodrigo</td>\n",
       "      <td>pop</td>\n",
       "    </tr>\n",
       "    <tr>\n",
       "      <th>4</th>\n",
       "      <td>Rumors</td>\n",
       "      <td>Lizzo Featuring Cardi B</td>\n",
       "      <td>dance pop</td>\n",
       "    </tr>\n",
       "  </tbody>\n",
       "</table>\n",
       "</div>"
      ],
      "text/plain": [
       "     BB_Title                      BB_Artist              Genres\n",
       "0        Stay  The Kid LAROI & Justin Bieber  australian hip hop\n",
       "1  Bad Habits                     Ed Sheeran                 pop\n",
       "2  Bad Habits                     Ed Sheeran              uk pop\n",
       "3    Good 4 U                 Olivia Rodrigo                 pop\n",
       "4      Rumors        Lizzo Featuring Cardi B           dance pop"
      ]
     },
     "execution_count": 6,
     "metadata": {},
     "output_type": "execute_result"
    }
   ],
   "source": [
    "genres.head()"
   ]
  },
  {
   "cell_type": "markdown",
   "id": "48f3c49d",
   "metadata": {},
   "source": [
    "#### 1.2.2 Genres Data, Categorical Data Converted to Numeric"
   ]
  },
  {
   "cell_type": "code",
   "execution_count": 7,
   "id": "0deb2102",
   "metadata": {},
   "outputs": [
    {
     "data": {
      "text/plain": [
       "pop               1661\n",
       "rap               1540\n",
       "dance pop         1064\n",
       "trap               973\n",
       "hip hop            955\n",
       "                  ... \n",
       "deep house           1\n",
       "slow game            1\n",
       "anime                1\n",
       "folktronica          1\n",
       "destroy techno       1\n",
       "Name: Genres, Length: 444, dtype: int64"
      ]
     },
     "execution_count": 7,
     "metadata": {},
     "output_type": "execute_result"
    }
   ],
   "source": [
    "counts = genres['Genres'].value_counts()\n",
    "counts"
   ]
  },
  {
   "cell_type": "code",
   "execution_count": 8,
   "id": "bb460a31",
   "metadata": {},
   "outputs": [
    {
     "data": {
      "text/plain": [
       "805"
      ]
     },
     "execution_count": 8,
     "metadata": {},
     "output_type": "execute_result"
    }
   ],
   "source": [
    "mask = genres['Genres'].isin(counts[counts < 10].index)\n",
    "genres['Genres'][mask] = 'Other'\n",
    "\n",
    "genres[genres.Genres == 'Other'].shape[0]"
   ]
  },
  {
   "cell_type": "code",
   "execution_count": 9,
   "id": "b9dd7dd2",
   "metadata": {},
   "outputs": [
    {
     "data": {
      "text/plain": [
       "pop                    1661\n",
       "rap                    1540\n",
       "dance pop              1064\n",
       "trap                    973\n",
       "hip hop                 955\n",
       "                       ... \n",
       "etherpop                 10\n",
       "alternative hip hop      10\n",
       "soul                     10\n",
       "funk rock                10\n",
       "dutch edm                10\n",
       "Name: Genres, Length: 151, dtype: int64"
      ]
     },
     "execution_count": 9,
     "metadata": {},
     "output_type": "execute_result"
    }
   ],
   "source": [
    "genres['Genres'] = genres['Genres'].fillna('Unknown')\n",
    "genres.Genres.value_counts()"
   ]
  },
  {
   "cell_type": "code",
   "execution_count": 10,
   "id": "dee1b0f1",
   "metadata": {},
   "outputs": [
    {
     "data": {
      "text/html": [
       "<div>\n",
       "<style scoped>\n",
       "    .dataframe tbody tr th:only-of-type {\n",
       "        vertical-align: middle;\n",
       "    }\n",
       "\n",
       "    .dataframe tbody tr th {\n",
       "        vertical-align: top;\n",
       "    }\n",
       "\n",
       "    .dataframe thead th {\n",
       "        text-align: right;\n",
       "    }\n",
       "</style>\n",
       "<table border=\"1\" class=\"dataframe\">\n",
       "  <thead>\n",
       "    <tr style=\"text-align: right;\">\n",
       "      <th></th>\n",
       "      <th>BB_Title</th>\n",
       "      <th>BB_Artist</th>\n",
       "      <th>Other</th>\n",
       "      <th>Unknown</th>\n",
       "      <th>acoustic pop</th>\n",
       "      <th>adult standards</th>\n",
       "      <th>alt z</th>\n",
       "      <th>alternative hip hop</th>\n",
       "      <th>alternative metal</th>\n",
       "      <th>alternative r&amp;b</th>\n",
       "      <th>...</th>\n",
       "      <th>tropical house</th>\n",
       "      <th>uk dance</th>\n",
       "      <th>uk pop</th>\n",
       "      <th>underground hip hop</th>\n",
       "      <th>urban contemporary</th>\n",
       "      <th>vapor trap</th>\n",
       "      <th>viral pop</th>\n",
       "      <th>viral rap</th>\n",
       "      <th>vocal jazz</th>\n",
       "      <th>west coast rap</th>\n",
       "    </tr>\n",
       "  </thead>\n",
       "  <tbody>\n",
       "    <tr>\n",
       "      <th>0</th>\n",
       "      <td>#Beautiful</td>\n",
       "      <td>Mariah Carey Featuring Miguel</td>\n",
       "      <td>0</td>\n",
       "      <td>0</td>\n",
       "      <td>0</td>\n",
       "      <td>0</td>\n",
       "      <td>0</td>\n",
       "      <td>0</td>\n",
       "      <td>0</td>\n",
       "      <td>0</td>\n",
       "      <td>...</td>\n",
       "      <td>0</td>\n",
       "      <td>0</td>\n",
       "      <td>0</td>\n",
       "      <td>0</td>\n",
       "      <td>1</td>\n",
       "      <td>0</td>\n",
       "      <td>0</td>\n",
       "      <td>0</td>\n",
       "      <td>0</td>\n",
       "      <td>0</td>\n",
       "    </tr>\n",
       "    <tr>\n",
       "      <th>1</th>\n",
       "      <td>#SELFIE</td>\n",
       "      <td>The Chainsmokers</td>\n",
       "      <td>0</td>\n",
       "      <td>0</td>\n",
       "      <td>0</td>\n",
       "      <td>0</td>\n",
       "      <td>0</td>\n",
       "      <td>0</td>\n",
       "      <td>0</td>\n",
       "      <td>0</td>\n",
       "      <td>...</td>\n",
       "      <td>1</td>\n",
       "      <td>0</td>\n",
       "      <td>0</td>\n",
       "      <td>0</td>\n",
       "      <td>0</td>\n",
       "      <td>0</td>\n",
       "      <td>0</td>\n",
       "      <td>0</td>\n",
       "      <td>0</td>\n",
       "      <td>0</td>\n",
       "    </tr>\n",
       "    <tr>\n",
       "      <th>2</th>\n",
       "      <td>#thatPOWER</td>\n",
       "      <td>will.i.am Featuring Justin Bieber</td>\n",
       "      <td>0</td>\n",
       "      <td>0</td>\n",
       "      <td>0</td>\n",
       "      <td>0</td>\n",
       "      <td>0</td>\n",
       "      <td>0</td>\n",
       "      <td>0</td>\n",
       "      <td>0</td>\n",
       "      <td>...</td>\n",
       "      <td>0</td>\n",
       "      <td>0</td>\n",
       "      <td>0</td>\n",
       "      <td>0</td>\n",
       "      <td>0</td>\n",
       "      <td>0</td>\n",
       "      <td>0</td>\n",
       "      <td>0</td>\n",
       "      <td>0</td>\n",
       "      <td>0</td>\n",
       "    </tr>\n",
       "    <tr>\n",
       "      <th>3</th>\n",
       "      <td>$ave Dat Money</td>\n",
       "      <td>Lil Dicky Featuring Fetty Wap &amp; Rich Homie Quan</td>\n",
       "      <td>1</td>\n",
       "      <td>0</td>\n",
       "      <td>0</td>\n",
       "      <td>0</td>\n",
       "      <td>0</td>\n",
       "      <td>0</td>\n",
       "      <td>0</td>\n",
       "      <td>0</td>\n",
       "      <td>...</td>\n",
       "      <td>0</td>\n",
       "      <td>0</td>\n",
       "      <td>0</td>\n",
       "      <td>0</td>\n",
       "      <td>0</td>\n",
       "      <td>0</td>\n",
       "      <td>0</td>\n",
       "      <td>0</td>\n",
       "      <td>0</td>\n",
       "      <td>0</td>\n",
       "    </tr>\n",
       "    <tr>\n",
       "      <th>4</th>\n",
       "      <td>'Tis The Damn Season</td>\n",
       "      <td>Taylor Swift</td>\n",
       "      <td>0</td>\n",
       "      <td>0</td>\n",
       "      <td>0</td>\n",
       "      <td>0</td>\n",
       "      <td>0</td>\n",
       "      <td>0</td>\n",
       "      <td>0</td>\n",
       "      <td>0</td>\n",
       "      <td>...</td>\n",
       "      <td>0</td>\n",
       "      <td>0</td>\n",
       "      <td>0</td>\n",
       "      <td>0</td>\n",
       "      <td>0</td>\n",
       "      <td>0</td>\n",
       "      <td>0</td>\n",
       "      <td>0</td>\n",
       "      <td>0</td>\n",
       "      <td>0</td>\n",
       "    </tr>\n",
       "  </tbody>\n",
       "</table>\n",
       "<p>5 rows × 153 columns</p>\n",
       "</div>"
      ],
      "text/plain": [
       "               BB_Title                                        BB_Artist  \\\n",
       "0            #Beautiful                    Mariah Carey Featuring Miguel   \n",
       "1               #SELFIE                                 The Chainsmokers   \n",
       "2            #thatPOWER                will.i.am Featuring Justin Bieber   \n",
       "3        $ave Dat Money  Lil Dicky Featuring Fetty Wap & Rich Homie Quan   \n",
       "4  'Tis The Damn Season                                     Taylor Swift   \n",
       "\n",
       "   Other  Unknown  acoustic pop  adult standards  alt z  alternative hip hop  \\\n",
       "0      0        0             0                0      0                    0   \n",
       "1      0        0             0                0      0                    0   \n",
       "2      0        0             0                0      0                    0   \n",
       "3      1        0             0                0      0                    0   \n",
       "4      0        0             0                0      0                    0   \n",
       "\n",
       "   alternative metal  alternative r&b  ...  tropical house  uk dance  uk pop  \\\n",
       "0                  0                0  ...               0         0       0   \n",
       "1                  0                0  ...               1         0       0   \n",
       "2                  0                0  ...               0         0       0   \n",
       "3                  0                0  ...               0         0       0   \n",
       "4                  0                0  ...               0         0       0   \n",
       "\n",
       "   underground hip hop  urban contemporary  vapor trap  viral pop  viral rap  \\\n",
       "0                    0                   1           0          0          0   \n",
       "1                    0                   0           0          0          0   \n",
       "2                    0                   0           0          0          0   \n",
       "3                    0                   0           0          0          0   \n",
       "4                    0                   0           0          0          0   \n",
       "\n",
       "   vocal jazz  west coast rap  \n",
       "0           0               0  \n",
       "1           0               0  \n",
       "2           0               0  \n",
       "3           0               0  \n",
       "4           0               0  \n",
       "\n",
       "[5 rows x 153 columns]"
      ]
     },
     "execution_count": 10,
     "metadata": {},
     "output_type": "execute_result"
    }
   ],
   "source": [
    "#genres column split into individual columns for each genres using get_dummies()\n",
    "genre_dummies = pd.concat([genres, pd.get_dummies(data=genres.Genres)],axis=1)\\\n",
    "                .groupby(by=['BB_Title','BB_Artist'],as_index=False).sum()\n",
    "\n",
    "genre_dummies.head()"
   ]
  },
  {
   "cell_type": "code",
   "execution_count": 11,
   "id": "7352ccb5",
   "metadata": {},
   "outputs": [],
   "source": [
    "merged = pd.merge(song_atts, genre_dummies, how='left', on=['BB_Title','BB_Artist'])\n",
    "\n",
    "#merged"
   ]
  },
  {
   "cell_type": "markdown",
   "id": "d80c3885",
   "metadata": {},
   "source": [
    "## 2.0 Preprocessing & Training"
   ]
  },
  {
   "cell_type": "markdown",
   "id": "f77273a9",
   "metadata": {},
   "source": [
    "### 2.1 Train Test Split"
   ]
  },
  {
   "cell_type": "code",
   "execution_count": 12,
   "id": "554df9ff",
   "metadata": {},
   "outputs": [],
   "source": [
    "X = merged.drop(columns=['PeakPos','BB_Title', 'BB_Artist'])\n",
    "y = merged.PeakPos\n",
    "\n",
    "#X = song_atts.drop(columns=['PeakPos','BB_Title', 'BB_Artist'])\n",
    "#y = song_atts.PeakPos\n",
    "\n",
    "X_train, X_test, y_train, y_test = train_test_split(X, y, test_size=0.3, random_state=47)"
   ]
  },
  {
   "cell_type": "code",
   "execution_count": 13,
   "id": "defc7fd4",
   "metadata": {},
   "outputs": [
    {
     "data": {
      "text/plain": [
       "((3226, 164), (1383, 164))"
      ]
     },
     "execution_count": 13,
     "metadata": {},
     "output_type": "execute_result"
    }
   ],
   "source": [
    "X_train.shape, X_test.shape"
   ]
  },
  {
   "cell_type": "markdown",
   "id": "200632ed",
   "metadata": {},
   "source": [
    "### 2.2 Initial Metrics"
   ]
  },
  {
   "cell_type": "markdown",
   "id": "dd13ce19",
   "metadata": {},
   "source": [
    "#### 2.2.1 Using the Training Set Mean"
   ]
  },
  {
   "cell_type": "code",
   "execution_count": 14,
   "id": "7f7fb932",
   "metadata": {},
   "outputs": [
    {
     "data": {
      "text/plain": [
       "array([[51.01952883]])"
      ]
     },
     "execution_count": 14,
     "metadata": {},
     "output_type": "execute_result"
    }
   ],
   "source": [
    "dumb_reg = DummyRegressor(strategy='mean')\n",
    "dumb_reg.fit(X_train, y_train)\n",
    "dumb_reg.constant_"
   ]
  },
  {
   "cell_type": "code",
   "execution_count": 15,
   "id": "72708dd7",
   "metadata": {},
   "outputs": [],
   "source": [
    "y_tr_pred = dumb_reg.predict(X_train)\n",
    "y_te_pred = dumb_reg.predict(X_test)"
   ]
  },
  {
   "cell_type": "code",
   "execution_count": 16,
   "id": "cb2237d9",
   "metadata": {},
   "outputs": [
    {
     "data": {
      "text/plain": [
       "(0.0, -3.55893970638288e-05)"
      ]
     },
     "execution_count": 16,
     "metadata": {},
     "output_type": "execute_result"
    }
   ],
   "source": [
    "r2_score(y_train, y_tr_pred), r2_score(y_test, y_te_pred)"
   ]
  },
  {
   "cell_type": "code",
   "execution_count": 17,
   "id": "37aabdf7",
   "metadata": {},
   "outputs": [
    {
     "data": {
      "text/plain": [
       "(25.5627398127966, 25.371715216971293)"
      ]
     },
     "execution_count": 17,
     "metadata": {},
     "output_type": "execute_result"
    }
   ],
   "source": [
    "mean_absolute_error(y_train, y_tr_pred), mean_absolute_error(y_test, y_te_pred)"
   ]
  },
  {
   "cell_type": "code",
   "execution_count": 18,
   "id": "7197839b",
   "metadata": {},
   "outputs": [
    {
     "data": {
      "text/plain": [
       "(881.1499596044075, 867.4273187813042)"
      ]
     },
     "execution_count": 18,
     "metadata": {},
     "output_type": "execute_result"
    }
   ],
   "source": [
    "mean_squared_error(y_train, y_tr_pred), mean_squared_error(y_test, y_te_pred)"
   ]
  },
  {
   "cell_type": "markdown",
   "id": "def04c6c",
   "metadata": {},
   "source": [
    "#### 2.2.2 Using Linear Regression"
   ]
  },
  {
   "cell_type": "code",
   "execution_count": 19,
   "id": "0f0562e9",
   "metadata": {},
   "outputs": [],
   "source": [
    "scaler = StandardScaler()\n",
    "scaler.fit(X_train)\n",
    "X_tr_scaled = scaler.transform(X_train)\n",
    "X_te_scaled = scaler.transform(X_test)"
   ]
  },
  {
   "cell_type": "code",
   "execution_count": 20,
   "id": "ce2eb68d",
   "metadata": {},
   "outputs": [],
   "source": [
    "lm = LinearRegression().fit(X_tr_scaled, y_train)"
   ]
  },
  {
   "cell_type": "code",
   "execution_count": 21,
   "id": "2665cf51",
   "metadata": {},
   "outputs": [],
   "source": [
    "y_tr_pred = lm.predict(X_tr_scaled)\n",
    "y_te_pred = lm.predict(X_te_scaled)"
   ]
  },
  {
   "cell_type": "code",
   "execution_count": 22,
   "id": "f897d8be",
   "metadata": {},
   "outputs": [
    {
     "data": {
      "text/plain": [
       "(0.17290628671324715, 0.0766116863200611)"
      ]
     },
     "execution_count": 22,
     "metadata": {},
     "output_type": "execute_result"
    }
   ],
   "source": [
    "r2_score(y_train, y_tr_pred), r2_score(y_test, y_te_pred)"
   ]
  },
  {
   "cell_type": "code",
   "execution_count": 23,
   "id": "ff7ac002",
   "metadata": {},
   "outputs": [
    {
     "data": {
      "text/plain": [
       "(22.649099340962618, 23.78409020297938)"
      ]
     },
     "execution_count": 23,
     "metadata": {},
     "output_type": "execute_result"
    }
   ],
   "source": [
    "mean_absolute_error(y_train, y_tr_pred), mean_absolute_error(y_test, y_te_pred)"
   ]
  },
  {
   "cell_type": "code",
   "execution_count": 24,
   "id": "decdafae",
   "metadata": {},
   "outputs": [
    {
     "data": {
      "text/plain": [
       "(728.7935920516817, 800.9437440244475)"
      ]
     },
     "execution_count": 24,
     "metadata": {},
     "output_type": "execute_result"
    }
   ],
   "source": [
    "mean_squared_error(y_train, y_tr_pred), mean_squared_error(y_test, y_te_pred)"
   ]
  },
  {
   "cell_type": "markdown",
   "id": "868fb52f",
   "metadata": {},
   "source": [
    "# WIP"
   ]
  },
  {
   "cell_type": "code",
   "execution_count": 25,
   "id": "9f237486",
   "metadata": {},
   "outputs": [],
   "source": [
    "#figure out feature importance\n",
    "#did i do the genre category to numerical correctly?\n",
    "#how can I better pare down the genres list? There is a lot of crossover between genres, could be messing with the results?\n",
    "\n",
    "from sklearn.model_selection import cross_validate, GridSearchCV\n",
    "from sklearn.pipeline import make_pipeline\n",
    "from sklearn.feature_selection import SelectKBest, f_regression"
   ]
  },
  {
   "cell_type": "code",
   "execution_count": 26,
   "id": "8463866d",
   "metadata": {},
   "outputs": [],
   "source": [
    "pipe = make_pipeline( \n",
    "    StandardScaler(),\n",
    "    SelectKBest(f_regression, k=10),\n",
    "    LinearRegression()\n",
    ")"
   ]
  },
  {
   "cell_type": "code",
   "execution_count": 27,
   "id": "71ae851a",
   "metadata": {},
   "outputs": [
    {
     "data": {
      "text/plain": [
       "Pipeline(steps=[('standardscaler', StandardScaler()),\n",
       "                ('selectkbest',\n",
       "                 SelectKBest(score_func=<function f_regression at 0x000001629DD85A60>)),\n",
       "                ('linearregression', LinearRegression())])"
      ]
     },
     "execution_count": 27,
     "metadata": {},
     "output_type": "execute_result"
    }
   ],
   "source": [
    "pipe.fit(X_train, y_train)"
   ]
  },
  {
   "cell_type": "code",
   "execution_count": 28,
   "id": "77191b29",
   "metadata": {},
   "outputs": [],
   "source": [
    "y_tr_pred = pipe.predict(X_train)\n",
    "y_te_pred = pipe.predict(X_test)"
   ]
  },
  {
   "cell_type": "code",
   "execution_count": 29,
   "id": "4bee5598",
   "metadata": {},
   "outputs": [
    {
     "data": {
      "text/plain": [
       "(0.05885684591155271, 0.06265182935953528)"
      ]
     },
     "execution_count": 29,
     "metadata": {},
     "output_type": "execute_result"
    }
   ],
   "source": [
    "r2_score(y_train, y_tr_pred), r2_score(y_test, y_te_pred)"
   ]
  },
  {
   "cell_type": "code",
   "execution_count": 30,
   "id": "3f529f35",
   "metadata": {},
   "outputs": [
    {
     "data": {
      "text/plain": [
       "(24.635650126315102, 24.439291992991265)"
      ]
     },
     "execution_count": 30,
     "metadata": {},
     "output_type": "execute_result"
    }
   ],
   "source": [
    "mean_absolute_error(y_train, y_tr_pred), mean_absolute_error(y_test, y_te_pred)"
   ]
  },
  {
   "cell_type": "code",
   "execution_count": 31,
   "id": "c0f92385",
   "metadata": {},
   "outputs": [],
   "source": [
    "cv_results = cross_validate(pipe, X_train, y_train, cv=5)"
   ]
  },
  {
   "cell_type": "code",
   "execution_count": 32,
   "id": "a4e8e400",
   "metadata": {},
   "outputs": [
    {
     "data": {
      "text/plain": [
       "array([0.03261972, 0.05117151, 0.05139669, 0.04550057, 0.03481143])"
      ]
     },
     "execution_count": 32,
     "metadata": {},
     "output_type": "execute_result"
    }
   ],
   "source": [
    "cv_scores = cv_results['test_score']\n",
    "cv_scores"
   ]
  },
  {
   "cell_type": "code",
   "execution_count": 33,
   "id": "5f9bc937",
   "metadata": {},
   "outputs": [
    {
     "data": {
      "text/plain": [
       "(0.04309998459698052, 0.007978519477912432)"
      ]
     },
     "execution_count": 33,
     "metadata": {},
     "output_type": "execute_result"
    }
   ],
   "source": [
    "np.mean(cv_scores), np.std(cv_scores)"
   ]
  },
  {
   "cell_type": "code",
   "execution_count": 34,
   "id": "a22e1f3c",
   "metadata": {},
   "outputs": [
    {
     "data": {
      "text/plain": [
       "array([0.03, 0.06])"
      ]
     },
     "execution_count": 34,
     "metadata": {},
     "output_type": "execute_result"
    }
   ],
   "source": [
    "np.round((np.mean(cv_scores) - 2 * np.std(cv_scores), np.mean(cv_scores) + 2 * np.std(cv_scores)), 2)"
   ]
  },
  {
   "cell_type": "code",
   "execution_count": 35,
   "id": "b362292e",
   "metadata": {},
   "outputs": [],
   "source": [
    "#trying to use GridSearchCV, see what happens\n",
    "k = [k+1 for k in range(len(X_train.columns))]\n",
    "#k = [k+1 for k in range(42)]\n",
    "grid_params = {'selectkbest__k': k}"
   ]
  },
  {
   "cell_type": "code",
   "execution_count": 36,
   "id": "96e1ef0b",
   "metadata": {},
   "outputs": [],
   "source": [
    "lr_grid_cv = GridSearchCV(pipe, param_grid=grid_params, cv=5, n_jobs=-1)"
   ]
  },
  {
   "cell_type": "code",
   "execution_count": 37,
   "id": "6d221c63",
   "metadata": {},
   "outputs": [
    {
     "data": {
      "text/plain": [
       "GridSearchCV(cv=5,\n",
       "             estimator=Pipeline(steps=[('standardscaler', StandardScaler()),\n",
       "                                       ('selectkbest',\n",
       "                                        SelectKBest(score_func=<function f_regression at 0x000001629DD85A60>)),\n",
       "                                       ('linearregression',\n",
       "                                        LinearRegression())]),\n",
       "             n_jobs=-1,\n",
       "             param_grid={'selectkbest__k': [1, 2, 3, 4, 5, 6, 7, 8, 9, 10, 11,\n",
       "                                            12, 13, 14, 15, 16, 17, 18, 19, 20,\n",
       "                                            21, 22, 23, 24, 25, 26, 27, 28, 29,\n",
       "                                            30, ...]})"
      ]
     },
     "execution_count": 37,
     "metadata": {},
     "output_type": "execute_result"
    }
   ],
   "source": [
    "lr_grid_cv.fit(X_train, y_train)"
   ]
  },
  {
   "cell_type": "code",
   "execution_count": 38,
   "id": "92e8f2d9",
   "metadata": {},
   "outputs": [],
   "source": [
    "score_mean = lr_grid_cv.cv_results_['mean_test_score']\n",
    "score_std = lr_grid_cv.cv_results_['std_test_score']\n",
    "cv_k = [k for k in lr_grid_cv.cv_results_['param_selectkbest__k']]"
   ]
  },
  {
   "cell_type": "code",
   "execution_count": 39,
   "id": "5cfd0841",
   "metadata": {},
   "outputs": [
    {
     "data": {
      "text/plain": [
       "{'selectkbest__k': 39}"
      ]
     },
     "execution_count": 39,
     "metadata": {},
     "output_type": "execute_result"
    }
   ],
   "source": [
    "lr_grid_cv.best_params_"
   ]
  },
  {
   "cell_type": "code",
   "execution_count": 40,
   "id": "7e660f4f",
   "metadata": {},
   "outputs": [
    {
     "data": {
      "image/png": "[encoded data removed]",
      "text/plain": [
       "<Figure size 720x360 with 1 Axes>"
      ]
     },
     "metadata": {
      "needs_background": "light"
     },
     "output_type": "display_data"
    }
   ],
   "source": [
    "best_k = lr_grid_cv.best_params_['selectkbest__k']\n",
    "plt.subplots(figsize=(10, 5))\n",
    "plt.errorbar(cv_k, score_mean, yerr=score_std)\n",
    "plt.axvline(x=best_k, c='r', ls='--', alpha=.5)\n",
    "plt.xlabel('k')\n",
    "plt.ylabel('CV score (r-squared)')\n",
    "plt.title('Pipeline mean CV score (error bars +/- 1sd)');"
   ]
  }
 ],
 "metadata": {
  "kernelspec": {
   "display_name": "Python 3",
   "language": "python",
   "name": "python3"
  },
  "language_info": {
   "codemirror_mode": {
    "name": "ipython",
    "version": 3
   },
   "file_extension": ".py",
   "mimetype": "text/x-python",
   "name": "python",
   "nbconvert_exporter": "python",
   "pygments_lexer": "ipython3",
   "version": "3.8.8"
  }
 },
 "nbformat": 4,
 "nbformat_minor": 5
}
